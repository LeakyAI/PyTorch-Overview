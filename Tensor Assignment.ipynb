{
 "cells": [
  {
   "cell_type": "markdown",
   "metadata": {},
   "source": [
    "# Tensor Assingment\n",
    "\n",
    "This is the PyTorch tensor assingment for the leaky.ai Introduction to Deep Learning with PyTorch course (www.leaky.ai).  \n",
    "\n",
    "To execute this assingment head over to Google Colab and load the notebook.\n",
    "\n",
    "DIRECTIONS\n",
    "1.  Load notebook into colab.research.google.com\n",
    "2.  Execute the notebook after completing each cell"
   ]
  },
  {
   "cell_type": "code",
   "execution_count": 1,
   "metadata": {},
   "outputs": [
    {
     "data": {
      "text/plain": [
       "'1.7.1'"
      ]
     },
     "execution_count": 1,
     "metadata": {},
     "output_type": "execute_result"
    }
   ],
   "source": [
    "# Import PyTorch and check the version\n",
    "import torch\n",
    "torch.__version__"
   ]
  },
  {
   "cell_type": "markdown",
   "metadata": {},
   "source": [
    "Correct Answer:  \n",
    "```\n",
    "'1.8.1'\n",
    "```"
   ]
  },
  {
   "cell_type": "markdown",
   "metadata": {},
   "source": [
    "# Creating Tensors\n",
    "Lets create a few tensors that we will use for the remaining part of the exercise"
   ]
  },
  {
   "cell_type": "code",
   "execution_count": 2,
   "metadata": {},
   "outputs": [
    {
     "name": "stdout",
     "output_type": "stream",
     "text": [
      "tensor([ 1.,  2.,  3.,  4.,  5.,  6.,  7.,  8.,  9., 10.])\n",
      "tensor([[ 1,  2,  3,  4,  5],\n",
      "        [ 6,  7,  8,  9, 10],\n",
      "        [11, 12, 13, 14, 15],\n",
      "        [16, 17, 18, 19, 20]])\n"
     ]
    }
   ],
   "source": [
    "# Create 2 PyTorch tensors with the following content and print them out:\n",
    "# Tensor a should contain [1.0,2.0,3.0,4.0,5.0,6.0,7.0,8.0,9.0,10.0]\n",
    "# Tensor b should contain [[1,2,3,4,5],[6,7,8,9,10],[11,12,13,14,15],[16,17,18,19,20]]\n",
    "\n",
    "# ---------- FILL IN BELOW -----------\n",
    "a = torch.tensor([1.0,2.0,3.0,4.0,5.0,6.0,7.0,8.0,9.0,10.0])\n",
    "b = torch.tensor([[1,2,3,4,5],[6,7,8,9,10],[11,12,13,14,15],[16,17,18,19,20]])\n",
    "print (a)\n",
    "print (b)"
   ]
  },
  {
   "cell_type": "markdown",
   "metadata": {},
   "source": [
    "## Section 2 - Processing Output of a Classifier\n",
    "Here we have a sample output of an image classifer.  Note, these outputs are the logits and have not been converted into probabilities.  This classifer is being trained using a batch size of 32 and predicting one of 5 different classes."
   ]
  },
  {
   "cell_type": "code",
   "execution_count": 17,
   "metadata": {},
   "outputs": [],
   "source": [
    "# Execute this cell\n",
    "pred = torch.tensor([[ 0.9293,  0.2901, -1.0152,  0.7746,  0.3067],\n",
    "        [ 0.6137,  0.2334, -1.4214,  0.1945,  1.3687],\n",
    "        [-0.5178, -0.2447, -1.6277,  0.3823, -1.7650],\n",
    "        [-0.7128,  0.1357, -0.7442, -0.0554,  0.2912],\n",
    "        [ 0.2781,  0.1012, -0.3719,  0.0612, -0.8098],\n",
    "        [-0.5228,  0.7324, -0.5130,  0.1524, -1.0955],\n",
    "        [-0.9477,  1.5931,  1.4148,  0.3352,  0.1616],\n",
    "        [-0.8468,  0.4508, -0.0220,  0.5912, -1.2848],\n",
    "        [-1.1751, -1.0395,  1.0125, -1.7792,  1.0216],\n",
    "        [ 0.1302, -0.2518, -0.1261,  0.1736,  0.0854],\n",
    "        [ 1.2633, -0.2371,  0.5904,  1.4261,  0.0923],\n",
    "        [ 0.2116,  0.9561, -1.9999,  0.1392,  0.2477],\n",
    "        [-0.4957, -1.0055,  0.0415, -0.5349,  0.1649],\n",
    "        [ 0.6049, -0.9726, -1.5090, -0.2382, -0.7545],\n",
    "        [-2.3070, -0.7316, -0.0962, -0.0539, -0.0683],\n",
    "        [-0.1294, -0.8661,  0.7598,  2.3836, -1.5560],\n",
    "        [ 0.6390, -0.7030, -1.3076,  0.3535, -0.8919],\n",
    "        [-0.7093,  0.5825,  0.5225,  0.5499,  0.3741],\n",
    "        [ 0.6182, -0.1380,  1.9645, -0.0651, -1.4204],\n",
    "        [-1.0245, -0.7844,  0.4350, -0.3211, -1.6331],\n",
    "        [-1.2897, -0.6440,  0.9762, -0.1727,  0.0712],\n",
    "        [-0.0157, -2.0290,  0.8639,  0.6300, -0.3400],\n",
    "        [ 0.4906, -1.4236, -0.0596,  0.9910,  0.0717],\n",
    "        [-0.5555, -0.3457,  0.1960,  0.6476,  0.9825],\n",
    "        [-0.4151,  0.9131,  0.1305,  0.9716, -1.2125],\n",
    "        [-0.0460, -1.9476,  0.4115, -0.8822, -0.8379],\n",
    "        [ 2.0143,  0.9110,  0.0745,  0.2747, -0.3691],\n",
    "        [-1.4767,  0.7810,  0.3173, -1.6166, -1.6816],\n",
    "        [ 1.6299, -0.2888,  0.3351,  1.8702, -0.1816],\n",
    "        [ 0.4609,  0.2472,  1.0285,  0.4368,  0.7801],\n",
    "        [ 0.1570, -0.6358,  1.3822, -0.5491, -0.2764],\n",
    "        [-1.3916, -0.0608, -0.6357, -2.3946,  0.2521]])"
   ]
  },
  {
   "cell_type": "code",
   "execution_count": 19,
   "metadata": {},
   "outputs": [
    {
     "data": {
      "text/plain": [
       "torch.Size([32, 5])"
      ]
     },
     "execution_count": 19,
     "metadata": {},
     "output_type": "execute_result"
    }
   ],
   "source": [
    "# What is the shape of the output tensor?\n",
    "\n",
    "# Type your answer here\n",
    "pred.shape"
   ]
  },
  {
   "cell_type": "markdown",
   "metadata": {},
   "source": [
    "Correct Answer:\n",
    "```\n",
    "torch.Size([32, 5])\n",
    "```"
   ]
  },
  {
   "cell_type": "code",
   "execution_count": 31,
   "metadata": {},
   "outputs": [
    {
     "name": "stdout",
     "output_type": "stream",
     "text": [
      "tensor([0.1116, 0.2606, 0.1081, 0.2153, 0.3045])\n",
      "tensor([[0.3264],\n",
      "        [0.4626],\n",
      "        [0.4563],\n",
      "        [0.3045],\n",
      "        [0.2856],\n",
      "        [0.4360],\n",
      "        [0.4101],\n",
      "        [0.3570],\n",
      "        [0.4366],\n",
      "        [0.2343],\n",
      "        [0.3655],\n",
      "        [0.4063],\n",
      "        [0.3118],\n",
      "        [0.4964],\n",
      "        [0.2811],\n",
      "        [0.7483],\n",
      "        [0.4216],\n",
      "        [0.2502],\n",
      "        [0.6462],\n",
      "        [0.4709],\n",
      "        [0.4943],\n",
      "        [0.3903],\n",
      "        [0.4091],\n",
      "        [0.3773],\n",
      "        [0.3654],\n",
      "        [0.4370],\n",
      "        [0.5736],\n",
      "        [0.5236],\n",
      "        [0.4453],\n",
      "        [0.2978],\n",
      "        [0.5675],\n",
      "        [0.4154]])\n",
      "tensor([[0],\n",
      "        [4],\n",
      "        [3],\n",
      "        [4],\n",
      "        [0],\n",
      "        [1],\n",
      "        [1],\n",
      "        [3],\n",
      "        [4],\n",
      "        [3],\n",
      "        [3],\n",
      "        [1],\n",
      "        [4],\n",
      "        [0],\n",
      "        [3],\n",
      "        [3],\n",
      "        [0],\n",
      "        [1],\n",
      "        [2],\n",
      "        [2],\n",
      "        [2],\n",
      "        [2],\n",
      "        [3],\n",
      "        [4],\n",
      "        [3],\n",
      "        [2],\n",
      "        [0],\n",
      "        [1],\n",
      "        [3],\n",
      "        [2],\n",
      "        [2],\n",
      "        [4]])\n"
     ]
    }
   ],
   "source": [
    "# Create a Tensor which holds the probability of the highest value and assocaited index for each prediction\n",
    "predProbability = torch.nn.functional.softmax(pred,dim=1)\n",
    "\n",
    "print (predProbability[3])\n",
    "prob, idx = torch.topk(predProbability,1)\n",
    "print (prob)\n",
    "print (idx)"
   ]
  },
  {
   "cell_type": "markdown",
   "metadata": {},
   "source": [
    "Correct Answer:\n",
    "```\n",
    "torch.Size([10]) torch.FloatTensor\n",
    "torch.Size([4, 5]) torch.LongTensor\n",
    "```"
   ]
  },
  {
   "cell_type": "code",
   "execution_count": 4,
   "metadata": {},
   "outputs": [
    {
     "name": "stdout",
     "output_type": "stream",
     "text": [
      "10.0\n",
      "20\n"
     ]
    }
   ],
   "source": [
    "# Print out the last item in tensor A and B as a scalar (not tensor)\n",
    "print (a.size(),a.type())\n",
    "print (b.size(),b.type())\n",
    "\n",
    "print(a[-1].item())\n",
    "print(b[-1,-1].item())\n"
   ]
  },
  {
   "cell_type": "code",
   "execution_count": 16,
   "metadata": {},
   "outputs": [
    {
     "data": {
      "text/plain": [
       "tensor([[ 0.9293,  0.2901, -1.0152,  0.7746,  0.3067],\n",
       "        [ 0.6137,  0.2334, -1.4214,  0.1945,  1.3687],\n",
       "        [-0.5178, -0.2447, -1.6277,  0.3823, -1.7650],\n",
       "        [-0.7128,  0.1357, -0.7442, -0.0554,  0.2912],\n",
       "        [ 0.2781,  0.1012, -0.3719,  0.0612, -0.8098],\n",
       "        [-0.5228,  0.7324, -0.5130,  0.1524, -1.0955],\n",
       "        [-0.9477,  1.5931,  1.4148,  0.3352,  0.1616],\n",
       "        [-0.8468,  0.4508, -0.0220,  0.5912, -1.2848],\n",
       "        [-1.1751, -1.0395,  1.0125, -1.7792,  1.0216],\n",
       "        [ 0.1302, -0.2518, -0.1261,  0.1736,  0.0854],\n",
       "        [ 1.2633, -0.2371,  0.5904,  1.4261,  0.0923],\n",
       "        [ 0.2116,  0.9561, -1.9999,  0.1392,  0.2477],\n",
       "        [-0.4957, -1.0055,  0.0415, -0.5349,  0.1649],\n",
       "        [ 0.6049, -0.9726, -1.5090, -0.2382, -0.7545],\n",
       "        [-2.3070, -0.7316, -0.0962, -0.0539, -0.0683],\n",
       "        [-0.1294, -0.8661,  0.7598,  2.3836, -1.5560],\n",
       "        [ 0.6390, -0.7030, -1.3076,  0.3535, -0.8919],\n",
       "        [-0.7093,  0.5825,  0.5225,  0.5499,  0.3741],\n",
       "        [ 0.6182, -0.1380,  1.9645, -0.0651, -1.4204],\n",
       "        [-1.0245, -0.7844,  0.4350, -0.3211, -1.6331],\n",
       "        [-1.2897, -0.6440,  0.9762, -0.1727,  0.0712],\n",
       "        [-0.0157, -2.0290,  0.8639,  0.6300, -0.3400],\n",
       "        [ 0.4906, -1.4236, -0.0596,  0.9910,  0.0717],\n",
       "        [-0.5555, -0.3457,  0.1960,  0.6476,  0.9825],\n",
       "        [-0.4151,  0.9131,  0.1305,  0.9716, -1.2125],\n",
       "        [-0.0460, -1.9476,  0.4115, -0.8822, -0.8379],\n",
       "        [ 2.0143,  0.9110,  0.0745,  0.2747, -0.3691],\n",
       "        [-1.4767,  0.7810,  0.3173, -1.6166, -1.6816],\n",
       "        [ 1.6299, -0.2888,  0.3351,  1.8702, -0.1816],\n",
       "        [ 0.4609,  0.2472,  1.0285,  0.4368,  0.7801],\n",
       "        [ 0.1570, -0.6358,  1.3822, -0.5491, -0.2764],\n",
       "        [-1.3916, -0.0608, -0.6357, -2.3946,  0.2521]])"
      ]
     },
     "execution_count": 16,
     "metadata": {},
     "output_type": "execute_result"
    }
   ],
   "source": [
    "a = torch.randn(32,5)\n",
    "a"
   ]
  },
  {
   "cell_type": "markdown",
   "metadata": {},
   "source": [
    "Correct Answer:\n",
    "```\n",
    "10.0\n",
    "20\n",
    "```"
   ]
  },
  {
   "cell_type": "code",
   "execution_count": 13,
   "metadata": {},
   "outputs": [
    {
     "data": {
      "text/plain": [
       "torch.Size([64, 5])"
      ]
     },
     "execution_count": 13,
     "metadata": {},
     "output_type": "execute_result"
    }
   ],
   "source": [
    "# This neural network attempts to predict 1 of 5 different classes\n",
    "# We are using batch processing with a batch size of 64\n",
    "# The output tensor (pred) is of shape (64,5) \n",
    "v1,v2 = torch.topk(a,1)\n",
    "\n",
    "a.shape\n",
    "\n",
    "\n"
   ]
  }
 ],
 "metadata": {
  "kernelspec": {
   "display_name": "Python 3",
   "language": "python",
   "name": "python3"
  },
  "language_info": {
   "codemirror_mode": {
    "name": "ipython",
    "version": 3
   },
   "file_extension": ".py",
   "mimetype": "text/x-python",
   "name": "python",
   "nbconvert_exporter": "python",
   "pygments_lexer": "ipython3",
   "version": "3.8.2"
  }
 },
 "nbformat": 4,
 "nbformat_minor": 4
}
