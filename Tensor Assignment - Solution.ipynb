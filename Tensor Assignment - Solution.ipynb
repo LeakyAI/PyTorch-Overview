{
 "cells": [
  {
   "cell_type": "markdown",
   "metadata": {},
   "source": [
    "# Tensor Assingment\n",
    "\n",
    "This is the PyTorch tensor assingment for the leaky.ai Introduction to Deep Learning with PyTorch course (www.leaky.ai).  \n",
    "\n",
    "To execute this assingment head over to Google Colab and load the notebook.\n",
    "\n",
    "DIRECTIONS\n",
    "1.  Load notebook into colab.research.google.com\n",
    "2.  Replace the [TBD]'s with your own code\n",
    "3.  Execute the notebook after completing each cell and check your answers"
   ]
  },
  {
   "cell_type": "code",
   "execution_count": 1,
   "metadata": {},
   "outputs": [
    {
     "data": {
      "text/plain": [
       "'1.9.0'"
      ]
     },
     "execution_count": 1,
     "metadata": {},
     "output_type": "execute_result"
    }
   ],
   "source": [
    "# Import PyTorch and check the version\n",
    "import torch\n",
    "torch.manual_seed(6)\n",
    "torch.__version__"
   ]
  },
  {
   "cell_type": "markdown",
   "metadata": {},
   "source": [
    "### Correct Answer:  \n",
    "<pre>\n",
    "'1.9.0'</pre>"
   ]
  },
  {
   "cell_type": "markdown",
   "metadata": {},
   "source": [
    "# Creating Tensors\n",
    "Lets create a few tensors that we will use for the remaining part of the exercise"
   ]
  },
  {
   "cell_type": "code",
   "execution_count": 2,
   "metadata": {},
   "outputs": [
    {
     "name": "stdout",
     "output_type": "stream",
     "text": [
      "tensor([[ 1.,  2.,  3.,  4.,  5.],\n",
      "        [ 6.,  7.,  8.,  9., 10.],\n",
      "        [11., 12., 13., 14., 15.],\n",
      "        [16., 17., 18., 19., 20.]])\n"
     ]
    }
   ],
   "source": [
    "# Create a PyTorch tensor with the following content\n",
    "# Tensor a should contain [[1,2,3,4,5],[6,7,8,9,10],[11,12,13,14,15],[16,17,18,19,20]]\n",
    "a = torch.tensor([[1,2,3,4,5],[6,7,8,9,10],[11,12,13,14,15],[16,17,18,19,20]], dtype=torch.float)\n",
    "print (a)"
   ]
  },
  {
   "cell_type": "markdown",
   "metadata": {},
   "source": [
    "### Correct Answer:  \n",
    "<pre>\n",
    "tensor([[ 1.,  2.,  3.,  4.,  5.],\n",
    "        [ 6.,  7.,  8.,  9., 10.],\n",
    "        [11., 12., 13., 14., 15.],\n",
    "        [16., 17., 18., 19., 20.]])\n",
    "</pre>"
   ]
  },
  {
   "cell_type": "markdown",
   "metadata": {},
   "source": [
    "# Exploring Tensor Properties\n",
    "Here you will explore different properties of tensors including type and sizing."
   ]
  },
  {
   "cell_type": "code",
   "execution_count": 3,
   "metadata": {},
   "outputs": [
    {
     "data": {
      "text/plain": [
       "torch.Size([4, 5])"
      ]
     },
     "execution_count": 3,
     "metadata": {},
     "output_type": "execute_result"
    }
   ],
   "source": [
    "# Check the size of the tensor\n",
    "a.size()"
   ]
  },
  {
   "cell_type": "markdown",
   "metadata": {},
   "source": [
    "### Correct Answer:  \n",
    "<pre>\n",
    "torch.Size([4, 5])\n",
    "</pre>"
   ]
  },
  {
   "cell_type": "code",
   "execution_count": 4,
   "metadata": {},
   "outputs": [
    {
     "data": {
      "text/plain": [
       "'torch.FloatTensor'"
      ]
     },
     "execution_count": 4,
     "metadata": {},
     "output_type": "execute_result"
    }
   ],
   "source": [
    "# Check the type\n",
    "a.type()"
   ]
  },
  {
   "cell_type": "markdown",
   "metadata": {},
   "source": [
    "### Correct Answer:  \n",
    "<pre>\n",
    "'torch.FloatTensor'\n",
    "</pre>"
   ]
  },
  {
   "cell_type": "markdown",
   "metadata": {},
   "source": [
    "# Indexing and Slicing Tensors\n",
    "Here you will explore indexing and slicing of PyTorch tensors."
   ]
  },
  {
   "cell_type": "code",
   "execution_count": 5,
   "metadata": {},
   "outputs": [
    {
     "data": {
      "text/plain": [
       "tensor([ 3.,  8., 13., 18.])"
      ]
     },
     "execution_count": 5,
     "metadata": {},
     "output_type": "execute_result"
    }
   ],
   "source": [
    "# Select the middle values for all the rows\n",
    "a[:,2]"
   ]
  },
  {
   "cell_type": "markdown",
   "metadata": {},
   "source": [
    "### Correct Answer:  \n",
    "<pre>\n",
    "tensor([ 3.,  8., 13., 18.])\n",
    "</pre>"
   ]
  },
  {
   "cell_type": "code",
   "execution_count": 6,
   "metadata": {
    "scrolled": true
   },
   "outputs": [
    {
     "data": {
      "text/plain": [
       "tensor(15.)"
      ]
     },
     "execution_count": 6,
     "metadata": {},
     "output_type": "execute_result"
    }
   ],
   "source": [
    "# Select the last value in row 2 \n",
    "a[2,-1]"
   ]
  },
  {
   "cell_type": "markdown",
   "metadata": {},
   "source": [
    "### Correct Answer:  \n",
    "<pre>\n",
    "tensor(15.)\n",
    "</pre>"
   ]
  },
  {
   "cell_type": "code",
   "execution_count": 7,
   "metadata": {},
   "outputs": [
    {
     "data": {
      "text/plain": [
       "12.0"
      ]
     },
     "execution_count": 7,
     "metadata": {},
     "output_type": "execute_result"
    }
   ],
   "source": [
    "# Print the value 12 as a python scalar\n",
    "a[2,1].item()"
   ]
  },
  {
   "cell_type": "markdown",
   "metadata": {},
   "source": [
    "### Correct Answer:  \n",
    "<pre>\n",
    "12.0\n",
    "</pre>"
   ]
  },
  {
   "cell_type": "code",
   "execution_count": 8,
   "metadata": {},
   "outputs": [
    {
     "data": {
      "text/plain": [
       "tensor([7., 8., 9.])"
      ]
     },
     "execution_count": 8,
     "metadata": {},
     "output_type": "execute_result"
    }
   ],
   "source": [
    "# Print out 7, 8, 9\n",
    "a[1,1:4]"
   ]
  },
  {
   "cell_type": "markdown",
   "metadata": {},
   "source": [
    "### Correct Answer:  \n",
    "<pre>\n",
    "tensor([7., 8., 9.])\n",
    "</pre>"
   ]
  },
  {
   "cell_type": "code",
   "execution_count": 9,
   "metadata": {
    "scrolled": true
   },
   "outputs": [
    {
     "data": {
      "text/plain": [
       "[9.0, 14.0, 19.0]"
      ]
     },
     "execution_count": 9,
     "metadata": {},
     "output_type": "execute_result"
    }
   ],
   "source": [
    "# Print out 9, 14, 19 as a Python list\n",
    "a[1:4,3].tolist()"
   ]
  },
  {
   "cell_type": "markdown",
   "metadata": {},
   "source": [
    "### Correct Answer:  \n",
    "<pre>\n",
    "[9.0, 14.0, 19.0]\n",
    "</pre>"
   ]
  },
  {
   "cell_type": "code",
   "execution_count": 10,
   "metadata": {},
   "outputs": [
    {
     "name": "stdout",
     "output_type": "stream",
     "text": [
      "tensor([[-18., -16., -14., -12., -10.],\n",
      "        [ -8.,  -6.,  -4.,  -2.,   0.],\n",
      "        [  2.,   4.,   6.,   8.,  10.],\n",
      "        [ 12.,  14.,  16.,  18.,  20.]])\n"
     ]
    }
   ],
   "source": [
    "# Create a new tensor b by starting with a, \n",
    "# subtracting 10 and then multiplying by 2\n",
    "b = (a-10)*2\n",
    "print (b)"
   ]
  },
  {
   "cell_type": "markdown",
   "metadata": {},
   "source": [
    "### Correct Answer:  \n",
    "<pre>\n",
    "tensor([[-18., -16., -14., -12., -10.],\n",
    "        [ -8.,  -6.,  -4.,  -2.,   0.],\n",
    "        [  2.,   4.,   6.,   8.,  10.],\n",
    "        [ 12.,  14.,  16.,  18.,  20.]])\n",
    "</pre>"
   ]
  },
  {
   "cell_type": "markdown",
   "metadata": {},
   "source": [
    "# Finding Maximum Values\n",
    "Here you will explore different approachs to extract the highest values from tensors."
   ]
  },
  {
   "cell_type": "code",
   "execution_count": 11,
   "metadata": {},
   "outputs": [
    {
     "name": "stdout",
     "output_type": "stream",
     "text": [
      "Max: 20.0\n",
      "Min: 1.0\n"
     ]
    }
   ],
   "source": [
    "# Find the highest and lowest value in the entire tensor \n",
    "maximum = a.max()\n",
    "minimum = a.min()\n",
    "\n",
    "print (f\"Max: {maximum.item()}\\nMin: {minimum.item()}\")"
   ]
  },
  {
   "cell_type": "code",
   "execution_count": 12,
   "metadata": {},
   "outputs": [
    {
     "name": "stdout",
     "output_type": "stream",
     "text": [
      "Values:\n",
      "tensor([[ 5.,  4.],\n",
      "        [10.,  9.],\n",
      "        [15., 14.],\n",
      "        [20., 19.]])\n",
      "\n",
      "Indicies:\n",
      "tensor([[4, 3],\n",
      "        [4, 3],\n",
      "        [4, 3],\n",
      "        [4, 3]])\n"
     ]
    }
   ],
   "source": [
    "# Find the top 2 maximum values and index in each\n",
    "val, idx = a.topk(2)\n",
    "print (f\"Values:\\n{val}\")\n",
    "print (f\"\\nIndicies:\\n{idx}\")"
   ]
  },
  {
   "cell_type": "markdown",
   "metadata": {},
   "source": [
    "### Correct Answer:  \n",
    "<pre>\n",
    "Values:\n",
    "tensor([[ 5.,  4.],\n",
    "        [10.,  9.],\n",
    "        [15., 14.],\n",
    "        [20., 19.]])\n",
    "\n",
    "Indicies:\n",
    "tensor([[4, 3],\n",
    "        [4, 3],\n",
    "        [4, 3],\n",
    "        [4, 3]])\n",
    "</pre>"
   ]
  },
  {
   "cell_type": "markdown",
   "metadata": {},
   "source": [
    "# Standardize Columns\n",
    "For tabular datasets, you will likely need to standardize or normalize the data before using it for training."
   ]
  },
  {
   "cell_type": "code",
   "execution_count": 13,
   "metadata": {},
   "outputs": [
    {
     "name": "stdout",
     "output_type": "stream",
     "text": [
      "tensor([[ 1.,  2.,  3.,  4.,  5.],\n",
      "        [ 6.,  7.,  8.,  9., 10.],\n",
      "        [11., 12., 13., 14., 15.],\n",
      "        [16., 17., 18., 19., 20.]])\n",
      "\n",
      "Means:\n",
      "tensor([[ 8.5000,  9.5000, 10.5000, 11.5000, 12.5000]])\n",
      "\n",
      "Standard Deviations:\n",
      "tensor([[6.4550, 6.4550, 6.4550, 6.4550, 6.4550]])\n",
      "\n",
      "Standardized:\n",
      "tensor([[-1.1619, -1.1619, -1.1619, -1.1619, -1.1619],\n",
      "        [-0.3873, -0.3873, -0.3873, -0.3873, -0.3873],\n",
      "        [ 0.3873,  0.3873,  0.3873,  0.3873,  0.3873],\n",
      "        [ 1.1619,  1.1619,  1.1619,  1.1619,  1.1619]])\n"
     ]
    }
   ],
   "source": [
    "# Standardize the column values\n",
    "mean = a.mean(dim=0, keepdim=True)\n",
    "std = a.std(dim=0, keepdim=True)\n",
    "a_norm = (a - mean) / std\n",
    "\n",
    "# Output the results\n",
    "print (a)\n",
    "print (f\"\\nMeans:\\n{mean}\")\n",
    "print (f\"\\nStandard Deviations:\\n{std}\")\n",
    "print (f\"\\nStandardized:\\n{a_norm}\")"
   ]
  },
  {
   "cell_type": "markdown",
   "metadata": {},
   "source": [
    "### Correct Answer:  \n",
    "<pre>\n",
    "tensor([[ 1.,  2.,  3.,  4.,  5.],\n",
    "        [ 6.,  7.,  8.,  9., 10.],\n",
    "        [11., 12., 13., 14., 15.],\n",
    "        [16., 17., 18., 19., 20.]])\n",
    "\n",
    "Means:\n",
    "tensor([[ 8.5000,  9.5000, 10.5000, 11.5000, 12.5000]])\n",
    "\n",
    "Standard Deviations:\n",
    "tensor([[6.4550, 6.4550, 6.4550, 6.4550, 6.4550]])\n",
    "\n",
    "Standardized:\n",
    "tensor([[-1.1619, -1.1619, -1.1619, -1.1619, -1.1619],\n",
    "        [-0.3873, -0.3873, -0.3873, -0.3873, -0.3873],\n",
    "        [ 0.3873,  0.3873,  0.3873,  0.3873,  0.3873],\n",
    "        [ 1.1619,  1.1619,  1.1619,  1.1619,  1.1619]])</pre>"
   ]
  },
  {
   "cell_type": "markdown",
   "metadata": {},
   "source": [
    "## Processing the Output of a Classifier\n",
    "A classifier will produce a list of probabilities across each class.  Since we typically process more than one input at a time (batch training), we will be getting batch number of outputs.  Let's say our batch size for this example is 16 and the classifier is attempting to predict 1 of 5 different classes."
   ]
  },
  {
   "cell_type": "code",
   "execution_count": 14,
   "metadata": {},
   "outputs": [
    {
     "data": {
      "text/plain": [
       "tensor([[-1.2113,  0.6304, -1.4713, -1.3352, -0.4897],\n",
       "        [ 0.1317,  0.3295,  0.3264, -0.4806,  1.1032],\n",
       "        [ 2.5485,  0.3006, -0.5432, -1.0841,  1.4612],\n",
       "        [-1.6279, -1.4801, -1.0631,  0.3630,  0.3995],\n",
       "        [ 0.1457, -0.7345, -0.9873,  1.8512, -1.3437],\n",
       "        [ 0.8535,  0.8811, -0.6522,  0.5810,  0.3561],\n",
       "        [ 0.0160,  0.4019,  1.9538, -0.4460,  1.7102],\n",
       "        [ 0.8944, -0.5458, -0.6418, -2.0526,  0.3467],\n",
       "        [-0.6969, -0.0047, -0.3136, -1.2602,  0.6977],\n",
       "        [ 0.3720, -0.2606, -0.7613,  0.1277,  0.1522],\n",
       "        [-1.1083, -0.6452, -1.7871,  0.6950, -0.5825],\n",
       "        [-0.1926,  1.2357, -0.8008, -0.2808,  0.8701],\n",
       "        [-1.7344, -1.4347, -0.0628, -0.5595,  1.0410],\n",
       "        [ 0.1365,  1.8125, -0.4949,  0.8339, -0.3968],\n",
       "        [ 1.3933,  0.3012, -0.2570, -1.3999,  0.7615],\n",
       "        [ 0.8896, -0.3903,  0.8299,  0.2927, -0.6837]])"
      ]
     },
     "execution_count": 14,
     "metadata": {},
     "output_type": "execute_result"
    }
   ],
   "source": [
    "y_out_logits = torch.randn((16,5))\n",
    "y_out_logits"
   ]
  },
  {
   "cell_type": "markdown",
   "metadata": {},
   "source": [
    "### Correct Answer:  \n",
    "<pre>\n",
    "tensor([[-1.2113,  0.6304, -1.4713, -1.3352, -0.4897],\n",
    "        [ 0.1317,  0.3295,  0.3264, -0.4806,  1.1032],\n",
    "        [ 2.5485,  0.3006, -0.5432, -1.0841,  1.4612],\n",
    "        [-1.6279, -1.4801, -1.0631,  0.3630,  0.3995],\n",
    "        [ 0.1457, -0.7345, -0.9873,  1.8512, -1.3437],\n",
    "        [ 0.8535,  0.8811, -0.6522,  0.5810,  0.3561],\n",
    "        [ 0.0160,  0.4019,  1.9538, -0.4460,  1.7102],\n",
    "        [ 0.8944, -0.5458, -0.6418, -2.0526,  0.3467],\n",
    "        [-0.6969, -0.0047, -0.3136, -1.2602,  0.6977],\n",
    "        [ 0.3720, -0.2606, -0.7613,  0.1277,  0.1522],\n",
    "        [-1.1083, -0.6452, -1.7871,  0.6950, -0.5825],\n",
    "        [-0.1926,  1.2357, -0.8008, -0.2808,  0.8701],\n",
    "        [-1.7344, -1.4347, -0.0628, -0.5595,  1.0410],\n",
    "        [ 0.1365,  1.8125, -0.4949,  0.8339, -0.3968],\n",
    "        [ 1.3933,  0.3012, -0.2570, -1.3999,  0.7615],\n",
    "        [ 0.8896, -0.3903,  0.8299,  0.2927, -0.6837]])</pre>"
   ]
  },
  {
   "cell_type": "code",
   "execution_count": 15,
   "metadata": {},
   "outputs": [
    {
     "data": {
      "text/plain": [
       "torch.Size([16, 5])"
      ]
     },
     "execution_count": 15,
     "metadata": {},
     "output_type": "execute_result"
    }
   ],
   "source": [
    "# Check the size\n",
    "y_out_logits.size()"
   ]
  },
  {
   "cell_type": "markdown",
   "metadata": {},
   "source": [
    "### Correct Answer:  \n",
    "<pre>\n",
    "torch.Size([16, 5])</pre>"
   ]
  },
  {
   "cell_type": "code",
   "execution_count": 16,
   "metadata": {},
   "outputs": [
    {
     "data": {
      "text/plain": [
       "tensor([[0.0907, 0.5724, 0.0700, 0.0802, 0.1867],\n",
       "        [0.1511, 0.1842, 0.1836, 0.0819, 0.3992],\n",
       "        [0.6602, 0.0697, 0.0300, 0.0175, 0.2226],\n",
       "        [0.0531, 0.0616, 0.0934, 0.3888, 0.4032],\n",
       "        [0.1339, 0.0555, 0.0431, 0.7372, 0.0302],\n",
       "        [0.2763, 0.2840, 0.0613, 0.2104, 0.1680],\n",
       "        [0.0646, 0.0950, 0.4484, 0.0407, 0.3514],\n",
       "        [0.4801, 0.1137, 0.1033, 0.0252, 0.2776],\n",
       "        [0.1103, 0.2204, 0.1618, 0.0628, 0.4448],\n",
       "        [0.2908, 0.1545, 0.0936, 0.2277, 0.2334],\n",
       "        [0.0921, 0.1463, 0.0467, 0.5590, 0.1558],\n",
       "        [0.1050, 0.4379, 0.0571, 0.0961, 0.3038],\n",
       "        [0.0371, 0.0501, 0.1974, 0.1201, 0.5953],\n",
       "        [0.1056, 0.5642, 0.0562, 0.2121, 0.0619],\n",
       "        [0.4716, 0.1582, 0.0906, 0.0289, 0.2507],\n",
       "        [0.3358, 0.0934, 0.3163, 0.1849, 0.0696]])"
      ]
     },
     "execution_count": 16,
     "metadata": {},
     "output_type": "execute_result"
    }
   ],
   "source": [
    "# Convert output logits to probabilities\n",
    "y_outprob = torch.nn.functional.softmax(y_out_logits, dim=1)\n",
    "y_outprob"
   ]
  },
  {
   "cell_type": "markdown",
   "metadata": {},
   "source": [
    "### Correct Answer:  \n",
    "<pre>\n",
    "tensor([[0.0907, 0.5724, 0.0700, 0.0802, 0.1867],\n",
    "        [0.1511, 0.1842, 0.1836, 0.0819, 0.3992],\n",
    "        [0.6602, 0.0697, 0.0300, 0.0175, 0.2226],\n",
    "        [0.0531, 0.0616, 0.0934, 0.3888, 0.4032],\n",
    "        [0.1339, 0.0555, 0.0431, 0.7372, 0.0302],\n",
    "        [0.2763, 0.2840, 0.0613, 0.2104, 0.1680],\n",
    "        [0.0646, 0.0950, 0.4484, 0.0407, 0.3514],\n",
    "        [0.4801, 0.1137, 0.1033, 0.0252, 0.2776],\n",
    "        [0.1103, 0.2204, 0.1618, 0.0628, 0.4448],\n",
    "        [0.2908, 0.1545, 0.0936, 0.2277, 0.2334],\n",
    "        [0.0921, 0.1463, 0.0467, 0.5590, 0.1558],\n",
    "        [0.1050, 0.4379, 0.0571, 0.0961, 0.3038],\n",
    "        [0.0371, 0.0501, 0.1974, 0.1201, 0.5953],\n",
    "        [0.1056, 0.5642, 0.0562, 0.2121, 0.0619],\n",
    "        [0.4716, 0.1582, 0.0906, 0.0289, 0.2507],\n",
    "        [0.3358, 0.0934, 0.3163, 0.1849, 0.0696]])</pre>"
   ]
  },
  {
   "cell_type": "code",
   "execution_count": 17,
   "metadata": {},
   "outputs": [
    {
     "data": {
      "text/plain": [
       "tensor([1.0000, 1.0000, 1.0000, 1.0000, 1.0000, 1.0000, 1.0000, 1.0000, 1.0000,\n",
       "        1.0000, 1.0000, 1.0000, 1.0000, 1.0000, 1.0000, 1.0000])"
      ]
     },
     "execution_count": 17,
     "metadata": {},
     "output_type": "execute_result"
    }
   ],
   "source": [
    "# Check that each sample sums up to 1\n",
    "y_outprob.sum(dim=1)"
   ]
  },
  {
   "cell_type": "markdown",
   "metadata": {},
   "source": [
    "### Correct Answer:  \n",
    "<pre>\n",
    "tensor([1.0000, 1.0000, 1.0000, 1.0000, 1.0000, 1.0000, 1.0000, 1.0000, 1.0000,\n",
    "        1.0000, 1.0000, 1.0000, 1.0000, 1.0000, 1.0000, 1.0000])</pre>"
   ]
  },
  {
   "cell_type": "code",
   "execution_count": 18,
   "metadata": {},
   "outputs": [
    {
     "name": "stdout",
     "output_type": "stream",
     "text": [
      "Probability associated with each predicted class:\n",
      "tensor([[0.5724],\n",
      "        [0.3992],\n",
      "        [0.6602],\n",
      "        [0.4032],\n",
      "        [0.7372],\n",
      "        [0.2840],\n",
      "        [0.4484],\n",
      "        [0.4801],\n",
      "        [0.4448],\n",
      "        [0.2908],\n",
      "        [0.5590],\n",
      "        [0.4379],\n",
      "        [0.5953],\n",
      "        [0.5642],\n",
      "        [0.4716],\n",
      "        [0.3358]])\n",
      "Class ID:\n",
      "tensor([[1],\n",
      "        [4],\n",
      "        [0],\n",
      "        [4],\n",
      "        [3],\n",
      "        [1],\n",
      "        [2],\n",
      "        [0],\n",
      "        [4],\n",
      "        [0],\n",
      "        [3],\n",
      "        [1],\n",
      "        [4],\n",
      "        [1],\n",
      "        [0],\n",
      "        [0]])\n"
     ]
    }
   ],
   "source": [
    "# Find the class predicted for each of the 16 inputs\n",
    "prob, idx = torch.topk(y_outprob,1)\n",
    "print (f\"Probability associated with each predicted class:\\n{prob}\")\n",
    "print (f\"Class ID:\\n{idx}\")"
   ]
  },
  {
   "cell_type": "markdown",
   "metadata": {},
   "source": [
    "### Correct Answer:  \n",
    "<pre>\n",
    "Probability associated with each predicted class:\n",
    "tensor([[0.5724],\n",
    "        [0.3992],\n",
    "        [0.6602],\n",
    "        [0.4032],\n",
    "        [0.7372],\n",
    "        [0.2840],\n",
    "        [0.4484],\n",
    "        [0.4801],\n",
    "        [0.4448],\n",
    "        [0.2908],\n",
    "        [0.5590],\n",
    "        [0.4379],\n",
    "        [0.5953],\n",
    "        [0.5642],\n",
    "        [0.4716],\n",
    "        [0.3358]])\n",
    "Class ID:\n",
    "tensor([[1],\n",
    "        [4],\n",
    "        [0],\n",
    "        [4],\n",
    "        [3],\n",
    "        [1],\n",
    "        [2],\n",
    "        [0],\n",
    "        [4],\n",
    "        [0],\n",
    "        [3],\n",
    "        [1],\n",
    "        [4],\n",
    "        [1],\n",
    "        [0],\n",
    "        [0]])</pre>"
   ]
  },
  {
   "cell_type": "markdown",
   "metadata": {},
   "source": [
    "## Move Tensor to CPU or GPU\n",
    "A tensor will either reside on a GPU or CPU depending on hardware acceleration mode selected.  With Colab, if you run the notebook using hardware acceleration (GPU), you will be able to place the tensor on a device(\"GPU\")."
   ]
  },
  {
   "cell_type": "code",
   "execution_count": 19,
   "metadata": {},
   "outputs": [
    {
     "name": "stdout",
     "output_type": "stream",
     "text": [
      "Device: cuda\n"
     ]
    }
   ],
   "source": [
    "# Determine environment\n",
    "device = 'cuda' if torch.cuda.is_available() else 'cpu'\n",
    "print (f\"Device: {device}\")"
   ]
  },
  {
   "cell_type": "markdown",
   "metadata": {},
   "source": [
    "### Correct Answer:  \n",
    "<pre>\n",
    "Device: cpu\n",
    "</pre>\n",
    "Note:  If you are using hardware acceleration, your device would be set to \"cuda\""
   ]
  },
  {
   "cell_type": "code",
   "execution_count": 20,
   "metadata": {},
   "outputs": [],
   "source": [
    "# Move the tensor to GPU if availiable\n",
    "a=a.to(device)"
   ]
  },
  {
   "cell_type": "markdown",
   "metadata": {},
   "source": [
    "## Experiment with Tensor Shapes\n",
    "In some cases, you will need to add a batch dimension or remove an unused dimension from a tensor.  We will explore both below."
   ]
  },
  {
   "cell_type": "code",
   "execution_count": 21,
   "metadata": {},
   "outputs": [
    {
     "name": "stdout",
     "output_type": "stream",
     "text": [
      "tensor([0., 1., 2., 3., 4., 5., 6., 7., 8., 9.])\n",
      "torch.Size([10])\n"
     ]
    }
   ],
   "source": [
    "# Create a single dimension tensor with 10 values from 0..9\n",
    "c = torch.arange(0,10,dtype=torch.float)\n",
    "print (c)\n",
    "print (c.size())"
   ]
  },
  {
   "cell_type": "markdown",
   "metadata": {},
   "source": [
    "### Correct Answer:  \n",
    "<pre>\n",
    "tensor([0., 1., 2., 3., 4., 5., 6., 7., 8., 9.])\n",
    "torch.Size([10])\n",
    "</pre>"
   ]
  },
  {
   "cell_type": "code",
   "execution_count": 22,
   "metadata": {},
   "outputs": [
    {
     "name": "stdout",
     "output_type": "stream",
     "text": [
      "tensor([[0., 1., 2., 3., 4.],\n",
      "        [5., 6., 7., 8., 9.]])\n",
      "torch.Size([2, 5])\n"
     ]
    }
   ],
   "source": [
    "# Resize the tensor to 2 x 5\n",
    "c = c.reshape(2,5)\n",
    "print (c)\n",
    "print (c.size())"
   ]
  },
  {
   "cell_type": "markdown",
   "metadata": {},
   "source": [
    "### Correct Answer:  \n",
    "<pre>\n",
    "tensor([[0., 1., 2., 3., 4.],\n",
    "        [5., 6., 7., 8., 9.]])\n",
    "torch.Size([2, 5])\n",
    "</pre>"
   ]
  },
  {
   "cell_type": "code",
   "execution_count": 23,
   "metadata": {},
   "outputs": [
    {
     "name": "stdout",
     "output_type": "stream",
     "text": [
      "tensor([[0., 1.],\n",
      "        [2., 3.],\n",
      "        [4., 5.],\n",
      "        [6., 7.],\n",
      "        [8., 9.]])\n",
      "torch.Size([5, 2])\n"
     ]
    }
   ],
   "source": [
    "# Reshape the tensor to 5 x 2\n",
    "c = c.reshape(5,2)\n",
    "print (c)\n",
    "print (c.size())"
   ]
  },
  {
   "cell_type": "markdown",
   "metadata": {},
   "source": [
    "### Correct Answer:  \n",
    "<pre>\n",
    "tensor([[0., 1.],\n",
    "        [2., 3.],\n",
    "        [4., 5.],\n",
    "        [6., 7.],\n",
    "        [8., 9.]])\n",
    "torch.Size([5, 2])\n",
    "</pre>"
   ]
  },
  {
   "cell_type": "code",
   "execution_count": 24,
   "metadata": {},
   "outputs": [
    {
     "name": "stdout",
     "output_type": "stream",
     "text": [
      "tensor([[[0.],\n",
      "         [1.]],\n",
      "\n",
      "        [[2.],\n",
      "         [3.]],\n",
      "\n",
      "        [[4.],\n",
      "         [5.]],\n",
      "\n",
      "        [[6.],\n",
      "         [7.]],\n",
      "\n",
      "        [[8.],\n",
      "         [9.]]])\n",
      "torch.Size([5, 2, 1])\n"
     ]
    }
   ],
   "source": [
    "# Add a single dimension (size [5, 2, 1])\n",
    "c = c.reshape(5,2,1)\n",
    "print (c)\n",
    "print (c.size())"
   ]
  },
  {
   "cell_type": "markdown",
   "metadata": {},
   "source": [
    "### Correct Answer:  \n",
    "<pre>\n",
    "tensor([[[0.],\n",
    "         [1.]],\n",
    "\n",
    "        [[2.],\n",
    "         [3.]],\n",
    "\n",
    "        [[4.],\n",
    "         [5.]],\n",
    "\n",
    "        [[6.],\n",
    "         [7.]],\n",
    "\n",
    "        [[8.],\n",
    "         [9.]]])\n",
    "torch.Size([5, 2, 1])\n",
    "</pre>"
   ]
  },
  {
   "cell_type": "code",
   "execution_count": 25,
   "metadata": {},
   "outputs": [
    {
     "name": "stdout",
     "output_type": "stream",
     "text": [
      "tensor([[0., 1.],\n",
      "        [2., 3.],\n",
      "        [4., 5.],\n",
      "        [6., 7.],\n",
      "        [8., 9.]])\n",
      "torch.Size([5, 2])\n"
     ]
    }
   ],
   "source": [
    "# Restore the shape by removing the single dimension components\n",
    "c = c.squeeze()\n",
    "print (c)\n",
    "print (c.size())"
   ]
  },
  {
   "cell_type": "markdown",
   "metadata": {},
   "source": [
    "### Correct Answer:  \n",
    "<pre>\n",
    "tensor([[0., 1.],\n",
    "        [2., 3.],\n",
    "        [4., 5.],\n",
    "        [6., 7.],\n",
    "        [8., 9.]])\n",
    "torch.Size([5, 2])\n",
    "</pre>"
   ]
  },
  {
   "cell_type": "code",
   "execution_count": 26,
   "metadata": {},
   "outputs": [
    {
     "name": "stdout",
     "output_type": "stream",
     "text": [
      "tensor([0., 1., 2., 3., 4., 5., 6., 7., 8., 9.])\n",
      "torch.Size([10])\n"
     ]
    }
   ],
   "source": [
    "# Flatten the tensor (size [10])\n",
    "c = c.flatten()\n",
    "print (c)\n",
    "print (c.size())"
   ]
  },
  {
   "cell_type": "markdown",
   "metadata": {},
   "source": [
    "### Correct Answer:  \n",
    "<pre>\n",
    "tensor([0., 1., 2., 3., 4., 5., 6., 7., 8., 9.])\n",
    "torch.Size([10])\n",
    "</pre>"
   ]
  },
  {
   "cell_type": "code",
   "execution_count": 27,
   "metadata": {},
   "outputs": [
    {
     "name": "stdout",
     "output_type": "stream",
     "text": [
      "tensor([[0., 1., 2., 3., 4., 5., 6., 7., 8., 9.]])\n",
      "torch.Size([1, 10])\n"
     ]
    }
   ],
   "source": [
    "# Add a batch dimension (ie, shape 1,10)\n",
    "c = c.reshape(1,10)\n",
    "print (c)\n",
    "print (c.size())"
   ]
  },
  {
   "cell_type": "markdown",
   "metadata": {},
   "source": [
    "### Correct Answer:  \n",
    "<pre>\n",
    "tensor([[0., 1., 2., 3., 4., 5., 6., 7., 8., 9.]])\n",
    "torch.Size([1, 10])\n",
    "</pre>"
   ]
  },
  {
   "cell_type": "markdown",
   "metadata": {},
   "source": [
    "### Key Takeaways\n",
    "Key Takeaways:\n",
    "- You created multiple dimensional tensors\n",
    "- You explored their properties using size, type and python-style indexing/slicing\n",
    "- You normalized a tabular set of data by calculating the mean and standard deviation for each column\n",
    "- You converted a simulated set of logits to probabilities\n",
    "- You used the topk function to determine the class ID predicted by the classifier for all 16 inputs\n",
    "- You experimented with reshaping tensors"
   ]
  }
 ],
 "metadata": {
  "kernelspec": {
   "display_name": "Python 3",
   "language": "python",
   "name": "python3"
  },
  "language_info": {
   "codemirror_mode": {
    "name": "ipython",
    "version": 3
   },
   "file_extension": ".py",
   "mimetype": "text/x-python",
   "name": "python",
   "nbconvert_exporter": "python",
   "pygments_lexer": "ipython3",
   "version": "3.8.2"
  }
 },
 "nbformat": 4,
 "nbformat_minor": 4
}
