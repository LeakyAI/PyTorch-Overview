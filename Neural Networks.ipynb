{
 "cells": [
  {
   "cell_type": "markdown",
   "metadata": {},
   "source": [
    "# Explore Simple Neural Networks with PyTorch\n",
    "Copyright 2021, LEAKY.AI LLC\n",
    "\n",
    "In this exercise, we will build some very simple neural networks using PyTorch and explore their properties.  You will:\n",
    "\n",
    "- Use Google Colab to develop simple neural networks using PyTorch\n",
    "- Learn how to build hidden layers\n",
    "- Learn how to select the appropiate output activation function\n",
    "- Understand how to estimate the model size\n",
    "- Explore weights and bias settings\n",
    "\n",
    "To get started, head over to Google Colab via this link:\n",
    "\n",
    "https://colab.research.google.com\n",
    "\n",
    "Then load the GitHub project using the following URL:\n",
    "\n",
    "https://github.com/LeakyAI/PyTorch-Overview\n",
    "\n",
    "Good luck!"
   ]
  },
  {
   "cell_type": "markdown",
   "metadata": {},
   "source": [
    "## Step 1 - Import the PyTorch Libraries\n",
    "PyTorch has several libraries we will need to build this project.  The main library is the torch library.  We will also load the torchvision library which contains the pre-trained neural network we will need for our project as well as some transformation libraries that will help us process the image before passing it to our neural network.\n"
   ]
  },
  {
   "cell_type": "code",
   "execution_count": 1,
   "metadata": {},
   "outputs": [
    {
     "name": "stdout",
     "output_type": "stream",
     "text": [
      "PyTorch Version: 1.9.0\n"
     ]
    },
    {
     "data": {
      "text/plain": [
       "<torch._C.Generator at 0x20dc28765d0>"
      ]
     },
     "execution_count": 1,
     "metadata": {},
     "output_type": "execute_result"
    }
   ],
   "source": [
    "# Import PyTorch, NN module and NN.functional\n",
    "import torch\n",
    "import torch.nn as nn\n",
    "import torch.nn.functional as F\n",
    "\n",
    "print (f\"PyTorch Version: {torch.__version__}\")\n",
    "\n",
    "# PyTorch uses random values in many parts of the code, setting this\n",
    "# value will help us have repeatable results\n",
    "torch.manual_seed(8)\n",
    "#random.seed(3)  # Python Random package (if used)"
   ]
  },
  {
   "cell_type": "markdown",
   "metadata": {},
   "source": [
    "## Step 2 - Build a Simple Model\n",
    "One way to build a simple model in PyTorch is to extend the nn.Module class.  Lets build a network that has the following properties:\n",
    "\n",
    "- 2 inputs\n",
    "- 1 output\n"
   ]
  },
  {
   "cell_type": "code",
   "execution_count": 2,
   "metadata": {},
   "outputs": [],
   "source": [
    "# Build a transformation for each image passed into our network\n",
    "class MySimpleNetwork(nn.Module):\n",
    "    \n",
    "        # Network takes 2 inputs, produces 1 output\n",
    "        def __init__(self):\n",
    "            super(MySimpleNetwork,self).__init__()\n",
    "            self.fc1 = nn.Linear(2,1)\n",
    "            \n",
    "        def forward(self, x):\n",
    "            out = self.fc1(x)\n",
    "            return out\n",
    "    \n",
    "# Create an instance of the model and print out summary\n",
    "net = MySimpleNetwork()"
   ]
  },
  {
   "cell_type": "code",
   "execution_count": 3,
   "metadata": {},
   "outputs": [
    {
     "data": {
      "text/plain": [
       "MySimpleNetwork(\n",
       "  (fc1): Linear(in_features=2, out_features=1, bias=True)\n",
       ")"
      ]
     },
     "execution_count": 3,
     "metadata": {},
     "output_type": "execute_result"
    }
   ],
   "source": [
    "# Inspect the Model\n",
    "net"
   ]
  },
  {
   "cell_type": "code",
   "execution_count": 4,
   "metadata": {},
   "outputs": [
    {
     "data": {
      "text/plain": [
       "False"
      ]
     },
     "execution_count": 4,
     "metadata": {},
     "output_type": "execute_result"
    }
   ],
   "source": [
    "# Check if model is loaded on a GPU\n",
    "next(net.parameters()).is_cuda"
   ]
  },
  {
   "cell_type": "markdown",
   "metadata": {},
   "source": [
    "### Weights and Bias\n",
    "You can read more about weight initialization in PyTorch here:\n",
    "\n",
    "https://discuss.pytorch.org/t/how-are-layer-weights-and-biases-initialized-by-default/13073/4\n",
    "and\n",
    "https://stackoverflow.com/questions/49433936/how-to-initialize-weights-in-pytorch"
   ]
  },
  {
   "cell_type": "code",
   "execution_count": 37,
   "metadata": {},
   "outputs": [
    {
     "name": "stdout",
     "output_type": "stream",
     "text": [
      "Weights: tensor([[0.1384900808, 0.4883224368]]) \n",
      "Bias: tensor([0.6313193440])\n"
     ]
    }
   ],
   "source": [
    "# Print out the weights and bias (option 1)\n",
    "torch.set_printoptions(precision=10)  # show 10 decimal places\n",
    "print (f\"Weights: {net.fc1.weight.data} \\nBias: {net.fc1.bias.data}\")"
   ]
  },
  {
   "cell_type": "code",
   "execution_count": 35,
   "metadata": {},
   "outputs": [
    {
     "name": "stdout",
     "output_type": "stream",
     "text": [
      "tensor([[0.1384900808, 0.4883224368]])\n",
      "tensor([0.6313193440])\n"
     ]
    }
   ],
   "source": [
    "# Print out the weights and bias (option 2)\n",
    "for param in net.parameters():\n",
    "  print(param.data)"
   ]
  },
  {
   "cell_type": "markdown",
   "metadata": {},
   "source": [
    "## Pass a Value into the Network\n",
    "Since the network has not been trained yet, the output will be garbage.  However, lets see how we would process an input and inspect the output."
   ]
  },
  {
   "cell_type": "code",
   "execution_count": 29,
   "metadata": {},
   "outputs": [
    {
     "name": "stdout",
     "output_type": "stream",
     "text": [
      "4.749241352081299\n"
     ]
    }
   ],
   "source": [
    "# The network takes two inputs\n",
    "inp = torch.tensor([[-2.0,9.0]])\n",
    "\n",
    "# Process the input\n",
    "out = net(inp)\n",
    "print (out.item())"
   ]
  },
  {
   "cell_type": "markdown",
   "metadata": {},
   "source": [
    "## Check the Calculations"
   ]
  },
  {
   "cell_type": "code",
   "execution_count": 32,
   "metadata": {},
   "outputs": [
    {
     "name": "stdout",
     "output_type": "stream",
     "text": [
      "Expected output:4.749\n",
      "Actual output: 4.749\n"
     ]
    }
   ],
   "source": [
    "# Neural network weights\n",
    "# Use the values from the network above\n",
    "w1 = 0.1384900808\n",
    "w2 = 0.4883224368\n",
    "w3 = 0.6313193440\n",
    "\n",
    "# Our inputs\n",
    "input1 = -2.0\n",
    "input2 = 9.0\n",
    "bias = 1\n",
    "\n",
    "# The output should be Input1 * W1 + Input2 * W2 + Bias * W3\n",
    "output = w1*input1 + w2*input2 + bias*w3\n",
    "print (f\"Predicted output:{output:.4}\")\n",
    "\n",
    "# Actual output\n",
    "print (f\"Actual output: {out.item():.4}\")"
   ]
  },
  {
   "cell_type": "markdown",
   "metadata": {},
   "source": [
    "# Pause here and continue watching the lesson"
   ]
  },
  {
   "cell_type": "markdown",
   "metadata": {},
   "source": [
    "## Step 3 - Build a Multi-Layer Model\n"
   ]
  },
  {
   "cell_type": "code",
   "execution_count": 9,
   "metadata": {},
   "outputs": [
    {
     "data": {
      "text/plain": [
       "MySimpleNetwork(\n",
       "  (fc1): Linear(in_features=2, out_features=10, bias=True)\n",
       "  (fc2): Linear(in_features=10, out_features=1, bias=True)\n",
       ")"
      ]
     },
     "execution_count": 9,
     "metadata": {},
     "output_type": "execute_result"
    }
   ],
   "source": [
    "# Build a transformation for each image passed into our network\n",
    "class MySimpleNetwork(nn.Module):\n",
    "    \n",
    "        # Network takes 2 inputs, produces 1 output\n",
    "        def __init__(self):\n",
    "            super().__init__()\n",
    "            self.fc1 = nn.Linear(2,10)\n",
    "            self.fc2 = nn.Linear(10,1)\n",
    "        \n",
    "        def forward(self, x):\n",
    "            outFC1 = F.relu(self.fc1(x))\n",
    "            outFC2 = F.relu(self.fc2(outFC1))\n",
    "            return outFC2\n",
    "\n",
    "# Create an instance of the model and print out summary\n",
    "net = MySimpleNetwork()\n",
    "net"
   ]
  },
  {
   "cell_type": "code",
   "execution_count": null,
   "metadata": {},
   "outputs": [],
   "source": [
    "dataset = []\n",
    "for x in range(0,total):\n",
    "    \n",
    "    "
   ]
  },
  {
   "cell_type": "markdown",
   "metadata": {},
   "source": [
    "## Key Takeaways\n",
    "- \n",
    "## Next Steps\n",
    "- "
   ]
  }
 ],
 "metadata": {
  "kernelspec": {
   "display_name": "Python 3",
   "language": "python",
   "name": "python3"
  },
  "language_info": {
   "codemirror_mode": {
    "name": "ipython",
    "version": 3
   },
   "file_extension": ".py",
   "mimetype": "text/x-python",
   "name": "python",
   "nbconvert_exporter": "python",
   "pygments_lexer": "ipython3",
   "version": "3.8.2"
  }
 },
 "nbformat": 4,
 "nbformat_minor": 2
}
