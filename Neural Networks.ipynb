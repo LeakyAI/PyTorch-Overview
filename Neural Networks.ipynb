{
 "cells": [
  {
   "cell_type": "markdown",
   "metadata": {},
   "source": [
    "# Explore Simple Neural Networks with PyTorch\n",
    "Copyright 2021, LEAKY.AI LLC\n",
    "\n",
    "In this exercise, we will build some very simple neural networks using PyTorch and explore their properties.\n",
    "- Use Google Colab to develop simple neural networks using PyTorch\n",
    "- Understand how to construct neural networks and estimate their size\n",
    "\n",
    "To get started, head over to Google Colab via this link:\n",
    "\n",
    "https://colab.research.google.com\n",
    "\n",
    "Then load the GitHub project using the following URL:\n",
    "[FILL OUT] https://github.com/LeakyAI/BirdDetector.git\n",
    "\n",
    "Good luck!"
   ]
  },
  {
   "cell_type": "markdown",
   "metadata": {},
   "source": [
    "## Step 1 - Import the PyTorch Libraries\n",
    "PyTorch has several libraries we will need to build this project.  The main library is the torch library.  We will also load the torchvision library which contains the pre-trained neural network we will need for our project as well as some transformation libraries that will help us process the image before passing it to our neural network.\n"
   ]
  },
  {
   "cell_type": "code",
   "execution_count": 28,
   "metadata": {},
   "outputs": [],
   "source": [
    "# Import PyTorch, PyTorch transform module and our pre-trained RESNET50 network\n",
    "import torch\n",
    "import torch.nn as nn\n",
    "import torch.nn.functional as F\n",
    "from torchsummary import summary"
   ]
  },
  {
   "cell_type": "markdown",
   "metadata": {},
   "source": [
    "## Step 2 - Build a Simple Model\n",
    "Here you will build a simple neural network"
   ]
  },
  {
   "cell_type": "code",
   "execution_count": 32,
   "metadata": {},
   "outputs": [
    {
     "name": "stdout",
     "output_type": "stream",
     "text": [
      "----------------------------------------------------------------\n",
      "        Layer (type)               Output Shape         Param #\n",
      "================================================================\n",
      "            Linear-1                 [-1, 1, 1]               3\n",
      "================================================================\n",
      "Total params: 3\n",
      "Trainable params: 3\n",
      "Non-trainable params: 0\n",
      "----------------------------------------------------------------\n",
      "Input size (MB): 0.00\n",
      "Forward/backward pass size (MB): 0.00\n",
      "Params size (MB): 0.00\n",
      "Estimated Total Size (MB): 0.00\n",
      "----------------------------------------------------------------\n"
     ]
    }
   ],
   "source": [
    "# Build a transformation for each image passed into our network\n",
    "class MySimpleNetwork(nn.Module):\n",
    "    \n",
    "        # Network takes 2 inputs, produces 1 output\n",
    "        def __init__(self):\n",
    "            super(MySimpleNetwork,self).__init__()\n",
    "            self.fc1 = nn.Linear(2,1)\n",
    "            \n",
    "        def forward(self, x):\n",
    "            out = self.fc1(x)\n",
    "            yHat = F.relu(out)\n",
    "            return yHat\n",
    "    \n",
    "# Create an instance of the model and print out summary\n",
    "net = MySimpleNetwork()\n",
    "net = net.cuda()\n",
    "summary(net,(1,2))"
   ]
  },
  {
   "cell_type": "code",
   "execution_count": null,
   "metadata": {},
   "outputs": [],
   "source": []
  },
  {
   "cell_type": "markdown",
   "metadata": {},
   "source": [
    "## Step 3 - Build a Multi-Layer Model\n"
   ]
  },
  {
   "cell_type": "code",
   "execution_count": 34,
   "metadata": {},
   "outputs": [
    {
     "name": "stdout",
     "output_type": "stream",
     "text": [
      "----------------------------------------------------------------\n",
      "        Layer (type)               Output Shape         Param #\n",
      "================================================================\n",
      "            Linear-1                [-1, 1, 10]              30\n",
      "            Linear-2                 [-1, 1, 1]              11\n",
      "================================================================\n",
      "Total params: 41\n",
      "Trainable params: 41\n",
      "Non-trainable params: 0\n",
      "----------------------------------------------------------------\n",
      "Input size (MB): 0.00\n",
      "Forward/backward pass size (MB): 0.00\n",
      "Params size (MB): 0.00\n",
      "Estimated Total Size (MB): 0.00\n",
      "----------------------------------------------------------------\n"
     ]
    }
   ],
   "source": [
    "# Build a transformation for each image passed into our network\n",
    "class MySimpleNetwork(nn.Module):\n",
    "    \n",
    "        # Network takes 2 inputs, produces 1 output\n",
    "        def __init__(self):\n",
    "            super(MySimpleNetwork,self).__init__()\n",
    "            self.fc1 = nn.Linear(2,10)\n",
    "            self.fc2 = nn.Linear(10,1)\n",
    "        \n",
    "        def forward(self, x):\n",
    "            outFC1 = F.relu(self.fc1(x))\n",
    "            outFC2 = F.relu(self.fc2(outFC1))\n",
    "            return outFC2\n",
    "\n",
    "# Create an instance of the model and print out summary\n",
    "net = MySimpleNetwork()\n",
    "net = net.cuda()\n",
    "summary(net,(1,2))"
   ]
  },
  {
   "cell_type": "markdown",
   "metadata": {},
   "source": [
    "## Step 4 - Pass the Image Through our Network\n",
    "Next, we will pass the image into our nerual network.  Before doing so, we will pre-process the image with our transform.  This will ensure the input image meets the input requirements of the neural network regardless of it's original size."
   ]
  },
  {
   "cell_type": "code",
   "execution_count": null,
   "metadata": {},
   "outputs": [],
   "source": []
  },
  {
   "cell_type": "markdown",
   "metadata": {},
   "source": [
    "## Step 5 - Convert Outputs to Meaningful Categories\n",
    "Each of the outputs of the RESNET model is associated with a specific object (car, flower etc.).  We will need the names of each of these classes which we can find on the pytorch hub list:\n",
    "\n",
    "https://raw.githubusercontent.com/pytorch/hub/master/imagenet_classes.txt\n",
    "\n",
    "Let's read them into a list so we can clearly determine the class the network is predicting."
   ]
  },
  {
   "cell_type": "code",
   "execution_count": null,
   "metadata": {},
   "outputs": [],
   "source": [
    "# From PyTorch Documentation - read in all ImageNet class names\n",
    "!wget https://raw.githubusercontent.com/pytorch/hub/master/imagenet_classes.txt\n",
    "with open(\"imagenet_classes.txt\", \"r\") as f:\n",
    "    categories = [s.strip() for s in f.readlines()]"
   ]
  },
  {
   "cell_type": "code",
   "execution_count": null,
   "metadata": {},
   "outputs": [],
   "source": [
    "# Show top categories per image\n",
    "top3_prob, top3_catid = torch.topk(probabilities, 3)\n",
    "\n",
    "# Print out the values\n",
    "for i in range(top3_prob.size(0)):\n",
    "    print(f\"{categories[top3_catid[i]]} ({top3_prob[i].item():.3%}) {top3_catid[i]}\")"
   ]
  },
  {
   "cell_type": "markdown",
   "metadata": {},
   "source": [
    "## Step 6 - Detect Birds\n",
    "There are 1000 classes predicted by the RESNET50 model.  These all come from ImageNet and you have been provided the list along with the class ids in a pdf which you can download.  Looking at the full list of classes, you will see three seperate sections for birds.  The bird class IDs include 7..24, 80..100 and 127..146.  Hence, if your model detects with high confidence one of these classes, it would be a good assumption that a bird would be present in the picture. "
   ]
  },
  {
   "cell_type": "code",
   "execution_count": null,
   "metadata": {},
   "outputs": [],
   "source": [
    "# Define a function to check if a class ID is a type of bird\n",
    "# Input id, returns True or False\n",
    "def BirdClassID(id):\n",
    "    if (7<=id<=24) or (80<=id<=100) or (127<=id<=146):\n",
    "        return True\n",
    "    else:\n",
    "        return False"
   ]
  },
  {
   "cell_type": "code",
   "execution_count": null,
   "metadata": {},
   "outputs": [],
   "source": [
    "# Function that takes an image as input and determines if a \n",
    "# bird is present in the image\n",
    "def BirdDetector(im):\n",
    "    \n",
    "    # Turn off gradient calculations as we are only using inference here\n",
    "    with torch.no_grad():\n",
    "        \n",
    "        # Transform Input and add a batch dimension to the tensor\n",
    "        inp = myTransform(im).unsqueeze(0)\n",
    "        \n",
    "        # Pass the input through the RESNET model\n",
    "        out = net(inp)\n",
    "\n",
    "    # Convert the output to probabilities\n",
    "    probabilities = torch.nn.functional.softmax(out[0], dim=0)\n",
    "    \n",
    "    # Grap the single highest probability and associated id\n",
    "    prob, catid = torch.topk(probabilities, 1)\n",
    "\n",
    "    # If a bird is detected, print out \"Bird Detected\", otherwise \"No bird\"\n",
    "    if BirdClassID(catid):\n",
    "        print (\"Bird Detected!\")\n",
    "    else:\n",
    "        print (\"No bird...\")\n",
    "    \n",
    "    # Output the predicted name and probability\n",
    "    print(f\"Predicted {categories[catid]} with {prob.item():.3%} probability.\")"
   ]
  },
  {
   "cell_type": "markdown",
   "metadata": {},
   "source": [
    "## Try with your own image!"
   ]
  },
  {
   "cell_type": "markdown",
   "metadata": {},
   "source": [
    "## Key Takeaways\n",
    "- You built a bird detector using a pre-trained neural network\n",
    "- This network has been trained on 1000s of images and can detect a 1000 different types of classes\n",
    "- You were able to process the image before sending it into the network\n",
    "- You were able to process the output of the neural network and determine what the network is predicting\n",
    "\n",
    "## Next Steps\n",
    "- Make the network even better by training it on additional bird types using transfer learning\n",
    "- Select an even more powerful network with higher accuarcy\n"
   ]
  }
 ],
 "metadata": {
  "kernelspec": {
   "display_name": "Python 3",
   "language": "python",
   "name": "python3"
  },
  "language_info": {
   "codemirror_mode": {
    "name": "ipython",
    "version": 3
   },
   "file_extension": ".py",
   "mimetype": "text/x-python",
   "name": "python",
   "nbconvert_exporter": "python",
   "pygments_lexer": "ipython3",
   "version": "3.8.2"
  }
 },
 "nbformat": 4,
 "nbformat_minor": 2
}
