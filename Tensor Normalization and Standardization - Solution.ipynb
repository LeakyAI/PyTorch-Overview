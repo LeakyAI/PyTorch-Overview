{
 "cells": [
  {
   "cell_type": "markdown",
   "id": "7c655193",
   "metadata": {},
   "source": [
    "# Tensor Normalization and Standardization Assingment\n",
    "\n",
    "This is the PyTorch tensor normalization assingment for the leaky.ai Introduction to Deep Learning with PyTorch course (www.leaky.ai).  \n",
    "\n",
    "To execute this assingment head over to Google Colab and load the notebook.\n",
    "\n",
    "DIRECTIONS\n",
    "1.  Load notebook into colab.research.google.com\n",
    "2.  Replace the [TBD]'s with your own code\n",
    "3.  Execute the notebook after completing each cell and check your answers"
   ]
  },
  {
   "cell_type": "code",
   "execution_count": 4,
   "id": "c8f1e8c0",
   "metadata": {},
   "outputs": [
    {
     "name": "stdout",
     "output_type": "stream",
     "text": [
      "tensor([[ 1.,  2.,  3.,  4.,  5.],\n",
      "        [ 6.,  7.,  8.,  9., 10.],\n",
      "        [11., 12., 13., 14., 15.],\n",
      "        [16., 17., 18., 19., 20.]])\n"
     ]
    }
   ],
   "source": [
    "# Import PyTorch and check the version\n",
    "# Create a PyTorch tensor with the following content\n",
    "# Tensor a should contain [[1,2,3,4,5],[6,7,8,9,10],[11,12,13,14,15],[16,17,18,19,20]]\n",
    "import torch\n",
    "torch.manual_seed(6)\n",
    "torch.__version__\n",
    "a = torch.tensor([[1,2,3,4,5],[6,7,8,9,10],[11,12,13,14,15],[16,17,18,19,20]], dtype=torch.float)\n",
    "print (a)"
   ]
  },
  {
   "cell_type": "markdown",
   "id": "52e7d5b2",
   "metadata": {},
   "source": [
    "# Finding Maximum Values\n",
    "Here you will explore different approachs to extract the highest values from tensors."
   ]
  },
  {
   "cell_type": "code",
   "execution_count": 2,
   "id": "a0a31b0d",
   "metadata": {},
   "outputs": [
    {
     "name": "stdout",
     "output_type": "stream",
     "text": [
      "Max: 20.0\n",
      "Min: 1.0\n"
     ]
    }
   ],
   "source": [
    "# Find the highest and lowest value in the entire tensor \n",
    "maximum = a.max()\n",
    "minimum = a.min()\n",
    "\n",
    "print (f\"Max: {maximum.item()}\\nMin: {minimum.item()}\")"
   ]
  },
  {
   "cell_type": "markdown",
   "id": "a5521984",
   "metadata": {},
   "source": [
    "### Correct Answer:  \n",
    "<pre>\n",
    "Values:\n",
    "tensor([[ 5.,  4.],\n",
    "        [10.,  9.],\n",
    "        [15., 14.],\n",
    "        [20., 19.]])\n",
    "\n",
    "Indicies:\n",
    "tensor([[4, 3],\n",
    "        [4, 3],\n",
    "        [4, 3],\n",
    "        [4, 3]])\n",
    "</pre>"
   ]
  },
  {
   "cell_type": "markdown",
   "id": "113190a2",
   "metadata": {},
   "source": [
    "# Standardize Columns\n",
    "For tabular datasets, you will likely need to standardize or normalize the data before using it for training."
   ]
  },
  {
   "cell_type": "code",
   "execution_count": 3,
   "id": "d3b42982",
   "metadata": {},
   "outputs": [
    {
     "name": "stdout",
     "output_type": "stream",
     "text": [
      "tensor([[ 1.,  2.,  3.,  4.,  5.],\n",
      "        [ 6.,  7.,  8.,  9., 10.],\n",
      "        [11., 12., 13., 14., 15.],\n",
      "        [16., 17., 18., 19., 20.]])\n",
      "\n",
      "Means:\n",
      "tensor([ 8.5000,  9.5000, 10.5000, 11.5000, 12.5000])\n",
      "\n",
      "Standard Deviations:\n",
      "tensor([6.4550, 6.4550, 6.4550, 6.4550, 6.4550])\n",
      "\n",
      "Standardized:\n",
      "tensor([[-1.1619, -1.1619, -1.1619, -1.1619, -1.1619],\n",
      "        [-0.3873, -0.3873, -0.3873, -0.3873, -0.3873],\n",
      "        [ 0.3873,  0.3873,  0.3873,  0.3873,  0.3873],\n",
      "        [ 1.1619,  1.1619,  1.1619,  1.1619,  1.1619]])\n"
     ]
    }
   ],
   "source": [
    "# Standardize the column values\n",
    "\n",
    "# Start by calculating the mean for each column (dim=0)\n",
    "mean = a.mean(dim=0)\n",
    "\n",
    "# Then, calculate the standard deviation for each column (dim=0)\n",
    "std = a.std(dim=0)\n",
    "\n",
    "# Standardize the data by subtracting the mean and dividing by st. dev.\n",
    "a_std = (a - mean) / std\n",
    "\n",
    "# Output the results\n",
    "print (a)\n",
    "print (f\"\\nMeans:\\n{mean}\")\n",
    "print (f\"\\nStandard Deviations:\\n{std}\")\n",
    "print (f\"\\nStandardized:\\n{a_std}\")"
   ]
  },
  {
   "cell_type": "markdown",
   "id": "9d7855c5",
   "metadata": {},
   "source": [
    "### Correct Answer:  \n",
    "<pre>\n",
    "tensor([[ 1.,  2.,  3.,  4.,  5.],\n",
    "        [ 6.,  7.,  8.,  9., 10.],\n",
    "        [11., 12., 13., 14., 15.],\n",
    "        [16., 17., 18., 19., 20.]])\n",
    "\n",
    "Means:\n",
    "tensor([[ 8.5000,  9.5000, 10.5000, 11.5000, 12.5000]])\n",
    "\n",
    "Standard Deviations:\n",
    "tensor([[6.4550, 6.4550, 6.4550, 6.4550, 6.4550]])\n",
    "\n",
    "Standardized:\n",
    "tensor([[-1.1619, -1.1619, -1.1619, -1.1619, -1.1619],\n",
    "        [-0.3873, -0.3873, -0.3873, -0.3873, -0.3873],\n",
    "        [ 0.3873,  0.3873,  0.3873,  0.3873,  0.3873],\n",
    "        [ 1.1619,  1.1619,  1.1619,  1.1619,  1.1619]])</pre>"
   ]
  },
  {
   "cell_type": "code",
   "execution_count": null,
   "id": "04a3315e",
   "metadata": {},
   "outputs": [],
   "source": []
  },
  {
   "cell_type": "code",
   "execution_count": null,
   "id": "529b2ea0",
   "metadata": {},
   "outputs": [],
   "source": []
  }
 ],
 "metadata": {
  "kernelspec": {
   "display_name": "Python 3",
   "language": "python",
   "name": "python3"
  },
  "language_info": {
   "codemirror_mode": {
    "name": "ipython",
    "version": 3
   },
   "file_extension": ".py",
   "mimetype": "text/x-python",
   "name": "python",
   "nbconvert_exporter": "python",
   "pygments_lexer": "ipython3",
   "version": "3.8.2"
  }
 },
 "nbformat": 4,
 "nbformat_minor": 5
}
