{
 "cells": [
  {
   "cell_type": "markdown",
   "metadata": {},
   "source": [
    "# Project Cars - MPG Prediction (Regression)\n",
    "Copyright 2022, LEAKY.AI LLC\n",
    "\n",
    "This is project 2 for the Introduction to Deep Learning with PyTorch course (www.leaky.ai).\n",
    "\n",
    "In this project you will build a neural network from scratch and train it to automatically predict Miles per Gallon (MPG) for various types of cars by simply looking at other properties of the car. You will be working with a real-world car dataset which will include values for each car including the number of cylinders, horsepower, weight, model year and acceleration.  From these values, the goal of your neural network will be to predict the expected Mile per Gallon (MPG for short) of the car.\n",
    "\n",
    "### In this project you will:\n",
    "- Build and train a neural network from scratch to predict MPG (Miles per Gallon) for cars using other car attributes (year, model, displacement etc.)\n",
    "- Prepare a real-world dataset of car attributes (along with MPGs) to be used for training the neural network\n",
    "- Experiment with different models to achieve a target average loss (or better) on the test set\n",
    "- Use the trained model to make new predictions of MPGs\n",
    "\n",
    "### To get started:\n",
    "- Open up a web browser (preferable Chrome)\n",
    "- Copy the Project GitHub Link: https://github.com/LeakyAI/PyTorch-Overview\n",
    "- Head over to Google Colab (https://colab.research.google.com)\n",
    "- Load the notebook: Project Cars - START HERE.ipynb\n",
    "- Replace the [TBD]'s with your own code\n",
    "- Execute the notebook after completing each cell\n",
    "\n",
    "### Hint\n",
    "Don't forget to print out and have your PyTorch and Pandas Cheatsheet handy when tackling this project. You can find it on the right-hand side of the the course home landing page in the Resource section.\n",
    "\n",
    "Good luck!"
   ]
  },
  {
   "cell_type": "code",
   "execution_count": 1,
   "metadata": {
    "id": "He-tOgRZMq9l"
   },
   "outputs": [],
   "source": [
    "# Import PyTorch libraries\n",
    "import torch\n",
    "import torch.nn as nn\n",
    "import torch.optim as optim\n",
    "import torch.nn.functional as F\n",
    "\n",
    "# Import math and visual libraries we will need\n",
    "import math, random\n",
    "import numpy as np\n",
    "import pandas as pd\n",
    "import matplotlib.pyplot as plt\n",
    "import seaborn as sns\n",
    "\n",
    "# Set our seeds to get reproducible results\n",
    "torch.manual_seed(4)\n",
    "random.seed(4)\n",
    "\n",
    "# Modify print options for numpy and pandas\n",
    "np.set_printoptions(precision=3, suppress=True)\n",
    "pd.options.display.float_format = \"{:,.2f}\".format"
   ]
  },
  {
   "cell_type": "markdown",
   "metadata": {},
   "source": [
    "### Load and Analyze the Dataset\n",
    "Below you will download the car dataset and explore the different attributes."
   ]
  },
  {
   "cell_type": "code",
   "execution_count": 2,
   "metadata": {
    "id": "AD0aBccEMx3c"
   },
   "outputs": [
    {
     "data": {
      "text/html": [
       "<div>\n",
       "<style scoped>\n",
       "    .dataframe tbody tr th:only-of-type {\n",
       "        vertical-align: middle;\n",
       "    }\n",
       "\n",
       "    .dataframe tbody tr th {\n",
       "        vertical-align: top;\n",
       "    }\n",
       "\n",
       "    .dataframe thead th {\n",
       "        text-align: right;\n",
       "    }\n",
       "</style>\n",
       "<table border=\"1\" class=\"dataframe\">\n",
       "  <thead>\n",
       "    <tr style=\"text-align: right;\">\n",
       "      <th></th>\n",
       "      <th>MPG</th>\n",
       "      <th>Cylinders</th>\n",
       "      <th>Displacement</th>\n",
       "      <th>Horsepower</th>\n",
       "      <th>Weight</th>\n",
       "      <th>Acceleration</th>\n",
       "      <th>Model Year</th>\n",
       "      <th>Origin</th>\n",
       "    </tr>\n",
       "  </thead>\n",
       "  <tbody>\n",
       "    <tr>\n",
       "      <th>0</th>\n",
       "      <td>18.00</td>\n",
       "      <td>8</td>\n",
       "      <td>307.00</td>\n",
       "      <td>130.00</td>\n",
       "      <td>3,504.00</td>\n",
       "      <td>12.00</td>\n",
       "      <td>70</td>\n",
       "      <td>USA</td>\n",
       "    </tr>\n",
       "    <tr>\n",
       "      <th>1</th>\n",
       "      <td>15.00</td>\n",
       "      <td>8</td>\n",
       "      <td>350.00</td>\n",
       "      <td>165.00</td>\n",
       "      <td>3,693.00</td>\n",
       "      <td>11.50</td>\n",
       "      <td>70</td>\n",
       "      <td>USA</td>\n",
       "    </tr>\n",
       "    <tr>\n",
       "      <th>2</th>\n",
       "      <td>18.00</td>\n",
       "      <td>8</td>\n",
       "      <td>318.00</td>\n",
       "      <td>150.00</td>\n",
       "      <td>3,436.00</td>\n",
       "      <td>11.00</td>\n",
       "      <td>70</td>\n",
       "      <td>USA</td>\n",
       "    </tr>\n",
       "    <tr>\n",
       "      <th>3</th>\n",
       "      <td>16.00</td>\n",
       "      <td>8</td>\n",
       "      <td>304.00</td>\n",
       "      <td>150.00</td>\n",
       "      <td>3,433.00</td>\n",
       "      <td>12.00</td>\n",
       "      <td>70</td>\n",
       "      <td>USA</td>\n",
       "    </tr>\n",
       "    <tr>\n",
       "      <th>4</th>\n",
       "      <td>17.00</td>\n",
       "      <td>8</td>\n",
       "      <td>302.00</td>\n",
       "      <td>140.00</td>\n",
       "      <td>3,449.00</td>\n",
       "      <td>10.50</td>\n",
       "      <td>70</td>\n",
       "      <td>USA</td>\n",
       "    </tr>\n",
       "  </tbody>\n",
       "</table>\n",
       "</div>"
      ],
      "text/plain": [
       "    MPG  Cylinders  Displacement  Horsepower   Weight  Acceleration  \\\n",
       "0 18.00          8        307.00      130.00 3,504.00         12.00   \n",
       "1 15.00          8        350.00      165.00 3,693.00         11.50   \n",
       "2 18.00          8        318.00      150.00 3,436.00         11.00   \n",
       "3 16.00          8        304.00      150.00 3,433.00         12.00   \n",
       "4 17.00          8        302.00      140.00 3,449.00         10.50   \n",
       "\n",
       "   Model Year Origin  \n",
       "0          70    USA  \n",
       "1          70    USA  \n",
       "2          70    USA  \n",
       "3          70    USA  \n",
       "4          70    USA  "
      ]
     },
     "execution_count": 2,
     "metadata": {},
     "output_type": "execute_result"
    }
   ],
   "source": [
    "# Dataset from UCI - https://archive.ics.uci.edu/ml/datasets/auto+mpg\n",
    "# Dua, D. and Graff, C. (2019). UCI Machine Learning Repository Irvine, CA\n",
    "# University of California, School of Information and Computer Science.\n",
    "url = 'http://archive.ics.uci.edu/ml/machine-learning-databases/auto-mpg/auto-mpg.data'\n",
    "column_names = ['MPG', 'Cylinders', 'Displacement', 'Horsepower', 'Weight',\n",
    "                'Acceleration', 'Model Year', 'Origin']\n",
    "cars = pd.read_csv(url, names=column_names, na_values='?', comment='\\t', \n",
    "                   sep=' ', skipinitialspace=True)\n",
    "cars['Origin']=cars['Origin'].replace({1:'USA',2:'Europe',3:'Japan'})\n",
    "cars.head()"
   ]
  },
  {
   "cell_type": "code",
   "execution_count": 3,
   "metadata": {
    "colab": {
     "base_uri": "https://localhost:8080/",
     "height": 206
    },
    "id": "5CQZr5pOMzHt",
    "outputId": "2f7f6552-5f40-4342-e781-df13003f5f85"
   },
   "outputs": [
    {
     "data": {
      "text/html": [
       "<div>\n",
       "<style scoped>\n",
       "    .dataframe tbody tr th:only-of-type {\n",
       "        vertical-align: middle;\n",
       "    }\n",
       "\n",
       "    .dataframe tbody tr th {\n",
       "        vertical-align: top;\n",
       "    }\n",
       "\n",
       "    .dataframe thead th {\n",
       "        text-align: right;\n",
       "    }\n",
       "</style>\n",
       "<table border=\"1\" class=\"dataframe\">\n",
       "  <thead>\n",
       "    <tr style=\"text-align: right;\">\n",
       "      <th></th>\n",
       "      <th>MPG</th>\n",
       "      <th>Cylinders</th>\n",
       "      <th>Displacement</th>\n",
       "      <th>Horsepower</th>\n",
       "      <th>Weight</th>\n",
       "      <th>Acceleration</th>\n",
       "      <th>Model Year</th>\n",
       "    </tr>\n",
       "  </thead>\n",
       "  <tbody>\n",
       "    <tr>\n",
       "      <th>count</th>\n",
       "      <td>398.00</td>\n",
       "      <td>398.00</td>\n",
       "      <td>398.00</td>\n",
       "      <td>392.00</td>\n",
       "      <td>398.00</td>\n",
       "      <td>398.00</td>\n",
       "      <td>398.00</td>\n",
       "    </tr>\n",
       "    <tr>\n",
       "      <th>mean</th>\n",
       "      <td>23.51</td>\n",
       "      <td>5.45</td>\n",
       "      <td>193.43</td>\n",
       "      <td>104.47</td>\n",
       "      <td>2,970.42</td>\n",
       "      <td>15.57</td>\n",
       "      <td>76.01</td>\n",
       "    </tr>\n",
       "    <tr>\n",
       "      <th>std</th>\n",
       "      <td>7.82</td>\n",
       "      <td>1.70</td>\n",
       "      <td>104.27</td>\n",
       "      <td>38.49</td>\n",
       "      <td>846.84</td>\n",
       "      <td>2.76</td>\n",
       "      <td>3.70</td>\n",
       "    </tr>\n",
       "    <tr>\n",
       "      <th>min</th>\n",
       "      <td>9.00</td>\n",
       "      <td>3.00</td>\n",
       "      <td>68.00</td>\n",
       "      <td>46.00</td>\n",
       "      <td>1,613.00</td>\n",
       "      <td>8.00</td>\n",
       "      <td>70.00</td>\n",
       "    </tr>\n",
       "    <tr>\n",
       "      <th>25%</th>\n",
       "      <td>17.50</td>\n",
       "      <td>4.00</td>\n",
       "      <td>104.25</td>\n",
       "      <td>75.00</td>\n",
       "      <td>2,223.75</td>\n",
       "      <td>13.83</td>\n",
       "      <td>73.00</td>\n",
       "    </tr>\n",
       "    <tr>\n",
       "      <th>50%</th>\n",
       "      <td>23.00</td>\n",
       "      <td>4.00</td>\n",
       "      <td>148.50</td>\n",
       "      <td>93.50</td>\n",
       "      <td>2,803.50</td>\n",
       "      <td>15.50</td>\n",
       "      <td>76.00</td>\n",
       "    </tr>\n",
       "    <tr>\n",
       "      <th>75%</th>\n",
       "      <td>29.00</td>\n",
       "      <td>8.00</td>\n",
       "      <td>262.00</td>\n",
       "      <td>126.00</td>\n",
       "      <td>3,608.00</td>\n",
       "      <td>17.18</td>\n",
       "      <td>79.00</td>\n",
       "    </tr>\n",
       "    <tr>\n",
       "      <th>max</th>\n",
       "      <td>46.60</td>\n",
       "      <td>8.00</td>\n",
       "      <td>455.00</td>\n",
       "      <td>230.00</td>\n",
       "      <td>5,140.00</td>\n",
       "      <td>24.80</td>\n",
       "      <td>82.00</td>\n",
       "    </tr>\n",
       "  </tbody>\n",
       "</table>\n",
       "</div>"
      ],
      "text/plain": [
       "         MPG  Cylinders  Displacement  Horsepower   Weight  Acceleration  \\\n",
       "count 398.00     398.00        398.00      392.00   398.00        398.00   \n",
       "mean   23.51       5.45        193.43      104.47 2,970.42         15.57   \n",
       "std     7.82       1.70        104.27       38.49   846.84          2.76   \n",
       "min     9.00       3.00         68.00       46.00 1,613.00          8.00   \n",
       "25%    17.50       4.00        104.25       75.00 2,223.75         13.83   \n",
       "50%    23.00       4.00        148.50       93.50 2,803.50         15.50   \n",
       "75%    29.00       8.00        262.00      126.00 3,608.00         17.18   \n",
       "max    46.60       8.00        455.00      230.00 5,140.00         24.80   \n",
       "\n",
       "       Model Year  \n",
       "count      398.00  \n",
       "mean        76.01  \n",
       "std          3.70  \n",
       "min         70.00  \n",
       "25%         73.00  \n",
       "50%         76.00  \n",
       "75%         79.00  \n",
       "max         82.00  "
      ]
     },
     "execution_count": 3,
     "metadata": {},
     "output_type": "execute_result"
    }
   ],
   "source": [
    "cars.describe()"
   ]
  },
  {
   "cell_type": "markdown",
   "metadata": {},
   "source": [
    "### Question:  What are some of the common dataset issues you see with the above tables that will need to tackled before we can use it for training neural networks?"
   ]
  },
  {
   "cell_type": "markdown",
   "metadata": {},
   "source": [
    "Your Answer:   [TBD]"
   ]
  },
  {
   "cell_type": "markdown",
   "metadata": {},
   "source": [
    "# Prepare our Dataset\n",
    "### Start by counting and removing rows with missing items\n"
   ]
  },
  {
   "cell_type": "code",
   "execution_count": 4,
   "metadata": {},
   "outputs": [
    {
     "data": {
      "text/plain": [
       "MPG             0\n",
       "Cylinders       0\n",
       "Displacement    0\n",
       "Horsepower      6\n",
       "Weight          0\n",
       "Acceleration    0\n",
       "Model Year      0\n",
       "Origin          0\n",
       "dtype: int64"
      ]
     },
     "execution_count": 4,
     "metadata": {},
     "output_type": "execute_result"
    }
   ],
   "source": [
    "# Determine the number of missing items from each attribute\n",
    "cars.isna().sum()"
   ]
  },
  {
   "cell_type": "code",
   "execution_count": 5,
   "metadata": {
    "id": "ffOKOBu5M8BL"
   },
   "outputs": [
    {
     "data": {
      "text/plain": [
       "MPG             0\n",
       "Cylinders       0\n",
       "Displacement    0\n",
       "Horsepower      0\n",
       "Weight          0\n",
       "Acceleration    0\n",
       "Model Year      0\n",
       "Origin          0\n",
       "dtype: int64"
      ]
     },
     "execution_count": 5,
     "metadata": {},
     "output_type": "execute_result"
    }
   ],
   "source": [
    "# Drop rows with missing items\n",
    "cars = cars.dropna()\n",
    "\n",
    "# Check all missing items have been removed\n",
    "cars.isna().sum()"
   ]
  },
  {
   "cell_type": "markdown",
   "metadata": {},
   "source": [
    "### One-hot encode categorical attributes\n",
    "Origin is a categorical attribute in this dataset.  Start by determining how many categories exits after dropping any missing items from above."
   ]
  },
  {
   "cell_type": "code",
   "execution_count": 6,
   "metadata": {
    "colab": {
     "base_uri": "https://localhost:8080/",
     "height": 300
    },
    "id": "yTc3Q3M2NOA-",
    "outputId": "78df25d3-4825-4859-990c-47c649917d1a"
   },
   "outputs": [
    {
     "data": {
      "text/plain": [
       "MPG             127\n",
       "Cylinders         5\n",
       "Displacement     81\n",
       "Horsepower       93\n",
       "Weight          346\n",
       "Acceleration     95\n",
       "Model Year       13\n",
       "Origin            3\n",
       "dtype: int64"
      ]
     },
     "execution_count": 6,
     "metadata": {},
     "output_type": "execute_result"
    }
   ],
   "source": [
    "# Count number of unique values in each attribute including 'Origin'\n",
    "cars.nunique()"
   ]
  },
  {
   "cell_type": "markdown",
   "metadata": {},
   "source": [
    "### Question:  How many unique categories exist for Origin?"
   ]
  },
  {
   "cell_type": "markdown",
   "metadata": {},
   "source": [
    "Your Answer:  [TBD]"
   ]
  },
  {
   "cell_type": "code",
   "execution_count": 7,
   "metadata": {},
   "outputs": [
    {
     "data": {
      "text/html": [
       "<div>\n",
       "<style scoped>\n",
       "    .dataframe tbody tr th:only-of-type {\n",
       "        vertical-align: middle;\n",
       "    }\n",
       "\n",
       "    .dataframe tbody tr th {\n",
       "        vertical-align: top;\n",
       "    }\n",
       "\n",
       "    .dataframe thead th {\n",
       "        text-align: right;\n",
       "    }\n",
       "</style>\n",
       "<table border=\"1\" class=\"dataframe\">\n",
       "  <thead>\n",
       "    <tr style=\"text-align: right;\">\n",
       "      <th></th>\n",
       "      <th>MPG</th>\n",
       "      <th>Cylinders</th>\n",
       "      <th>Displacement</th>\n",
       "      <th>Horsepower</th>\n",
       "      <th>Weight</th>\n",
       "      <th>Acceleration</th>\n",
       "      <th>Model Year</th>\n",
       "      <th>Origin_Japan</th>\n",
       "      <th>Origin_USA</th>\n",
       "    </tr>\n",
       "  </thead>\n",
       "  <tbody>\n",
       "    <tr>\n",
       "      <th>count</th>\n",
       "      <td>392.00</td>\n",
       "      <td>392.00</td>\n",
       "      <td>392.00</td>\n",
       "      <td>392.00</td>\n",
       "      <td>392.00</td>\n",
       "      <td>392.00</td>\n",
       "      <td>392.00</td>\n",
       "      <td>392.00</td>\n",
       "      <td>392.00</td>\n",
       "    </tr>\n",
       "    <tr>\n",
       "      <th>mean</th>\n",
       "      <td>23.45</td>\n",
       "      <td>5.47</td>\n",
       "      <td>194.41</td>\n",
       "      <td>104.47</td>\n",
       "      <td>2,977.58</td>\n",
       "      <td>15.54</td>\n",
       "      <td>75.98</td>\n",
       "      <td>0.20</td>\n",
       "      <td>0.62</td>\n",
       "    </tr>\n",
       "    <tr>\n",
       "      <th>std</th>\n",
       "      <td>7.81</td>\n",
       "      <td>1.71</td>\n",
       "      <td>104.64</td>\n",
       "      <td>38.49</td>\n",
       "      <td>849.40</td>\n",
       "      <td>2.76</td>\n",
       "      <td>3.68</td>\n",
       "      <td>0.40</td>\n",
       "      <td>0.48</td>\n",
       "    </tr>\n",
       "    <tr>\n",
       "      <th>min</th>\n",
       "      <td>9.00</td>\n",
       "      <td>3.00</td>\n",
       "      <td>68.00</td>\n",
       "      <td>46.00</td>\n",
       "      <td>1,613.00</td>\n",
       "      <td>8.00</td>\n",
       "      <td>70.00</td>\n",
       "      <td>0.00</td>\n",
       "      <td>0.00</td>\n",
       "    </tr>\n",
       "    <tr>\n",
       "      <th>25%</th>\n",
       "      <td>17.00</td>\n",
       "      <td>4.00</td>\n",
       "      <td>105.00</td>\n",
       "      <td>75.00</td>\n",
       "      <td>2,225.25</td>\n",
       "      <td>13.78</td>\n",
       "      <td>73.00</td>\n",
       "      <td>0.00</td>\n",
       "      <td>0.00</td>\n",
       "    </tr>\n",
       "    <tr>\n",
       "      <th>50%</th>\n",
       "      <td>22.75</td>\n",
       "      <td>4.00</td>\n",
       "      <td>151.00</td>\n",
       "      <td>93.50</td>\n",
       "      <td>2,803.50</td>\n",
       "      <td>15.50</td>\n",
       "      <td>76.00</td>\n",
       "      <td>0.00</td>\n",
       "      <td>1.00</td>\n",
       "    </tr>\n",
       "    <tr>\n",
       "      <th>75%</th>\n",
       "      <td>29.00</td>\n",
       "      <td>8.00</td>\n",
       "      <td>275.75</td>\n",
       "      <td>126.00</td>\n",
       "      <td>3,614.75</td>\n",
       "      <td>17.02</td>\n",
       "      <td>79.00</td>\n",
       "      <td>0.00</td>\n",
       "      <td>1.00</td>\n",
       "    </tr>\n",
       "    <tr>\n",
       "      <th>max</th>\n",
       "      <td>46.60</td>\n",
       "      <td>8.00</td>\n",
       "      <td>455.00</td>\n",
       "      <td>230.00</td>\n",
       "      <td>5,140.00</td>\n",
       "      <td>24.80</td>\n",
       "      <td>82.00</td>\n",
       "      <td>1.00</td>\n",
       "      <td>1.00</td>\n",
       "    </tr>\n",
       "  </tbody>\n",
       "</table>\n",
       "</div>"
      ],
      "text/plain": [
       "         MPG  Cylinders  Displacement  Horsepower   Weight  Acceleration  \\\n",
       "count 392.00     392.00        392.00      392.00   392.00        392.00   \n",
       "mean   23.45       5.47        194.41      104.47 2,977.58         15.54   \n",
       "std     7.81       1.71        104.64       38.49   849.40          2.76   \n",
       "min     9.00       3.00         68.00       46.00 1,613.00          8.00   \n",
       "25%    17.00       4.00        105.00       75.00 2,225.25         13.78   \n",
       "50%    22.75       4.00        151.00       93.50 2,803.50         15.50   \n",
       "75%    29.00       8.00        275.75      126.00 3,614.75         17.02   \n",
       "max    46.60       8.00        455.00      230.00 5,140.00         24.80   \n",
       "\n",
       "       Model Year  Origin_Japan  Origin_USA  \n",
       "count      392.00        392.00      392.00  \n",
       "mean        75.98          0.20        0.62  \n",
       "std          3.68          0.40        0.48  \n",
       "min         70.00          0.00        0.00  \n",
       "25%         73.00          0.00        0.00  \n",
       "50%         76.00          0.00        1.00  \n",
       "75%         79.00          0.00        1.00  \n",
       "max         82.00          1.00        1.00  "
      ]
     },
     "execution_count": 7,
     "metadata": {},
     "output_type": "execute_result"
    }
   ],
   "source": [
    "# OneHot encode the Origin attribute using pd.get_dummies, drop and pd.concat\n",
    "oneHot = pd.get_dummies(cars['Origin'], prefix=\"Origin\", drop_first=True)\n",
    "cars=cars.drop('Origin',axis=1)\n",
    "cars = pd.concat([cars,oneHot],axis=1)\n",
    "cars.describe()"
   ]
  },
  {
   "cell_type": "markdown",
   "metadata": {},
   "source": [
    "### How many total attributes are left in the dataset after one hot encoding the Origin attribute?"
   ]
  },
  {
   "cell_type": "markdown",
   "metadata": {},
   "source": [
    "Your Answer:  [TBD]"
   ]
  },
  {
   "cell_type": "markdown",
   "metadata": {},
   "source": [
    "### Extract input X and output Y (MPG) from the dataset"
   ]
  },
  {
   "cell_type": "code",
   "execution_count": 8,
   "metadata": {},
   "outputs": [],
   "source": [
    "# Extract our target output ydf (MPG) and input x attributes\n",
    "ydf = cars['MPG']\n",
    "xdf = cars.drop(['MPG'],axis=1)"
   ]
  },
  {
   "cell_type": "markdown",
   "metadata": {},
   "source": [
    "### Apply standardization to our input xdf and output ydf "
   ]
  },
  {
   "cell_type": "code",
   "execution_count": 9,
   "metadata": {},
   "outputs": [],
   "source": [
    "# Calculate and save values required values to standardize both the input xdf and ydf\n",
    "xMean = xdf.mean()\n",
    "xStd = xdf.std()\n",
    "yMean = ydf.mean()\n",
    "yStd = ydf.std()\n",
    "\n",
    "# Standardize both the input (xdf) and output (ydf) values\n",
    "xdf = (xdf-xMean)/xStd\n",
    "ydf = (ydf-yMean)/yStd"
   ]
  },
  {
   "cell_type": "code",
   "execution_count": 10,
   "metadata": {},
   "outputs": [
    {
     "data": {
      "text/html": [
       "<div>\n",
       "<style scoped>\n",
       "    .dataframe tbody tr th:only-of-type {\n",
       "        vertical-align: middle;\n",
       "    }\n",
       "\n",
       "    .dataframe tbody tr th {\n",
       "        vertical-align: top;\n",
       "    }\n",
       "\n",
       "    .dataframe thead th {\n",
       "        text-align: right;\n",
       "    }\n",
       "</style>\n",
       "<table border=\"1\" class=\"dataframe\">\n",
       "  <thead>\n",
       "    <tr style=\"text-align: right;\">\n",
       "      <th></th>\n",
       "      <th>Cylinders</th>\n",
       "      <th>Displacement</th>\n",
       "      <th>Horsepower</th>\n",
       "      <th>Weight</th>\n",
       "      <th>Acceleration</th>\n",
       "      <th>Model Year</th>\n",
       "      <th>Origin_Japan</th>\n",
       "      <th>Origin_USA</th>\n",
       "    </tr>\n",
       "  </thead>\n",
       "  <tbody>\n",
       "    <tr>\n",
       "      <th>count</th>\n",
       "      <td>392.00</td>\n",
       "      <td>392.00</td>\n",
       "      <td>392.00</td>\n",
       "      <td>392.00</td>\n",
       "      <td>392.00</td>\n",
       "      <td>392.00</td>\n",
       "      <td>392.00</td>\n",
       "      <td>392.00</td>\n",
       "    </tr>\n",
       "    <tr>\n",
       "      <th>mean</th>\n",
       "      <td>-0.00</td>\n",
       "      <td>-0.00</td>\n",
       "      <td>-0.00</td>\n",
       "      <td>0.00</td>\n",
       "      <td>0.00</td>\n",
       "      <td>-0.00</td>\n",
       "      <td>-0.00</td>\n",
       "      <td>-0.00</td>\n",
       "    </tr>\n",
       "    <tr>\n",
       "      <th>std</th>\n",
       "      <td>1.00</td>\n",
       "      <td>1.00</td>\n",
       "      <td>1.00</td>\n",
       "      <td>1.00</td>\n",
       "      <td>1.00</td>\n",
       "      <td>1.00</td>\n",
       "      <td>1.00</td>\n",
       "      <td>1.00</td>\n",
       "    </tr>\n",
       "    <tr>\n",
       "      <th>min</th>\n",
       "      <td>-1.45</td>\n",
       "      <td>-1.21</td>\n",
       "      <td>-1.52</td>\n",
       "      <td>-1.61</td>\n",
       "      <td>-2.73</td>\n",
       "      <td>-1.62</td>\n",
       "      <td>-0.50</td>\n",
       "      <td>-1.29</td>\n",
       "    </tr>\n",
       "    <tr>\n",
       "      <th>25%</th>\n",
       "      <td>-0.86</td>\n",
       "      <td>-0.85</td>\n",
       "      <td>-0.77</td>\n",
       "      <td>-0.89</td>\n",
       "      <td>-0.64</td>\n",
       "      <td>-0.81</td>\n",
       "      <td>-0.50</td>\n",
       "      <td>-1.29</td>\n",
       "    </tr>\n",
       "    <tr>\n",
       "      <th>50%</th>\n",
       "      <td>-0.86</td>\n",
       "      <td>-0.41</td>\n",
       "      <td>-0.28</td>\n",
       "      <td>-0.20</td>\n",
       "      <td>-0.01</td>\n",
       "      <td>0.01</td>\n",
       "      <td>-0.50</td>\n",
       "      <td>0.77</td>\n",
       "    </tr>\n",
       "    <tr>\n",
       "      <th>75%</th>\n",
       "      <td>1.48</td>\n",
       "      <td>0.78</td>\n",
       "      <td>0.56</td>\n",
       "      <td>0.75</td>\n",
       "      <td>0.54</td>\n",
       "      <td>0.82</td>\n",
       "      <td>-0.50</td>\n",
       "      <td>0.77</td>\n",
       "    </tr>\n",
       "    <tr>\n",
       "      <th>max</th>\n",
       "      <td>1.48</td>\n",
       "      <td>2.49</td>\n",
       "      <td>3.26</td>\n",
       "      <td>2.55</td>\n",
       "      <td>3.36</td>\n",
       "      <td>1.63</td>\n",
       "      <td>1.99</td>\n",
       "      <td>0.77</td>\n",
       "    </tr>\n",
       "  </tbody>\n",
       "</table>\n",
       "</div>"
      ],
      "text/plain": [
       "       Cylinders  Displacement  Horsepower  Weight  Acceleration  Model Year  \\\n",
       "count     392.00        392.00      392.00  392.00        392.00      392.00   \n",
       "mean       -0.00         -0.00       -0.00    0.00          0.00       -0.00   \n",
       "std         1.00          1.00        1.00    1.00          1.00        1.00   \n",
       "min        -1.45         -1.21       -1.52   -1.61         -2.73       -1.62   \n",
       "25%        -0.86         -0.85       -0.77   -0.89         -0.64       -0.81   \n",
       "50%        -0.86         -0.41       -0.28   -0.20         -0.01        0.01   \n",
       "75%         1.48          0.78        0.56    0.75          0.54        0.82   \n",
       "max         1.48          2.49        3.26    2.55          3.36        1.63   \n",
       "\n",
       "       Origin_Japan  Origin_USA  \n",
       "count        392.00      392.00  \n",
       "mean          -0.00       -0.00  \n",
       "std            1.00        1.00  \n",
       "min           -0.50       -1.29  \n",
       "25%           -0.50       -1.29  \n",
       "50%           -0.50        0.77  \n",
       "75%           -0.50        0.77  \n",
       "max            1.99        0.77  "
      ]
     },
     "execution_count": 10,
     "metadata": {},
     "output_type": "execute_result"
    }
   ],
   "source": [
    "# Check the input xdf values are now standardized\n",
    "xdf.describe()"
   ]
  },
  {
   "cell_type": "markdown",
   "metadata": {},
   "source": [
    "### Question:  What are you checking in the above to ensure the input values are correctly standardized?  "
   ]
  },
  {
   "cell_type": "markdown",
   "metadata": {},
   "source": [
    "Your Answer: [TBD]"
   ]
  },
  {
   "cell_type": "code",
   "execution_count": 11,
   "metadata": {},
   "outputs": [
    {
     "data": {
      "text/plain": [
       "count   392.00\n",
       "mean      0.00\n",
       "std       1.00\n",
       "min      -1.85\n",
       "25%      -0.83\n",
       "50%      -0.09\n",
       "75%       0.71\n",
       "max       2.97\n",
       "Name: MPG, dtype: float64"
      ]
     },
     "execution_count": 11,
     "metadata": {},
     "output_type": "execute_result"
    }
   ],
   "source": [
    "# Check that the output target ydf (MPG) is also correctly standardized\n",
    "ydf.describe()"
   ]
  },
  {
   "cell_type": "markdown",
   "metadata": {},
   "source": [
    "### Convert dataframes to PyTorch Tensors and Dataloaders"
   ]
  },
  {
   "cell_type": "code",
   "execution_count": 12,
   "metadata": {},
   "outputs": [],
   "source": [
    "# Create input and output PyTorch tensors of type torch.float\n",
    "x = torch.tensor(xdf.values,dtype=torch.float)\n",
    "y = torch.tensor(ydf.values,dtype=torch.float)"
   ]
  },
  {
   "cell_type": "code",
   "execution_count": 13,
   "metadata": {},
   "outputs": [
    {
     "name": "stdout",
     "output_type": "stream",
     "text": [
      "x.shape -> torch.Size([392, 8])\n",
      "x.type() -> torch.FloatTensor\n",
      "y.shape -> torch.Size([392, 1])\n",
      "y.type() -> torch.FloatTensor\n"
     ]
    }
   ],
   "source": [
    "# Add a batch dimension to y and print out the shape and type of both x and y\n",
    "y = y.unsqueeze(dim=1)\n",
    "print (f\"x.shape -> {x.shape}\")\n",
    "print (f\"x.type() -> {x.type()}\")\n",
    "print (f\"y.shape -> {y.shape}\")\n",
    "print (f\"y.type() -> {y.type()}\")"
   ]
  },
  {
   "cell_type": "code",
   "execution_count": 14,
   "metadata": {},
   "outputs": [],
   "source": [
    "# Create the index splits for training, validation and test\n",
    "# Import numpy for shuffling index values\n",
    "import numpy as np\n",
    "\n",
    "# Start by finding the total number of items in the original dataset\n",
    "# using the len function\n",
    "total = len(x)\n",
    "\n",
    "# Build a list of indicies and shuffle them randomly\n",
    "# Indicies should be in range of the length of x\n",
    "indices = list(range(total))\n",
    "\n",
    "# Shuffle the indicies\n",
    "np.random.shuffle(indices)\n",
    "\n",
    "# Allocate 80% of the data for the training set\n",
    "# (10% for test set and 10% for validation set)\n",
    "trainingPercent = .8\n",
    "\n",
    "# Calculate the first split point so that x[:split1] will be your training set\n",
    "split1 = int(total*trainingPercent)\n",
    "\n",
    "# Calculate your 2nd split point so that x[split1:split2] will be\n",
    "# your validation set and x[split2:] will be your testing set\n",
    "split2 = int(((total - split1)/2)+split1)"
   ]
  },
  {
   "cell_type": "code",
   "execution_count": 15,
   "metadata": {},
   "outputs": [],
   "source": [
    "# Create our a simple dataset using the PyTorch dataset class\n",
    "class Dataset(torch.utils.data.Dataset):\n",
    "  def __init__(self, x, y):\n",
    "        # Initialize both x and y\n",
    "        self.x = x\n",
    "        self.y = y\n",
    "\n",
    "  def __len__(self):\n",
    "        # Total number of samples in the dataset\n",
    "        return len(self.y)\n",
    "\n",
    "  def __getitem__(self, index):\n",
    "        # Return the data at location index\n",
    "        x=self.x[index]\n",
    "        y=self.y[index]\n",
    "        return x,y\n",
    "\n",
    "# Instantiate the three datasets\n",
    "train_set = Dataset(x[indices[:split1]], y[indices[:split1]])\n",
    "val_set = Dataset(x[indices[split1:split2]], y[indices[split1:split2]])\n",
    "test_set = Dataset(x[indices[split2:]], y[indices[split2:]])\n",
    "\n",
    "# Create dataloaders for each dataset\n",
    "# For the training set, make sure to set shuffle to true\n",
    "train_loader = torch.utils.data.DataLoader(train_set,\n",
    "                                           batch_size=4,\n",
    "                                           shuffle=True,\n",
    "                                           num_workers=0)\n",
    "\n",
    "val_loader = torch.utils.data.DataLoader(val_set,\n",
    "                                         batch_size=4,\n",
    "                                         shuffle=False,\n",
    "                                         num_workers=0)\n",
    "\n",
    "test_loader = torch.utils.data.DataLoader(test_set,\n",
    "                                          batch_size=4,\n",
    "                                          shuffle=False,\n",
    "                                          num_workers=0)"
   ]
  },
  {
   "cell_type": "code",
   "execution_count": 16,
   "metadata": {},
   "outputs": [
    {
     "name": "stdout",
     "output_type": "stream",
     "text": [
      "Train Loader - Total Number of Mini-Batches: 79\n",
      "Train Loader - Total Size of Dataset: 313\n",
      "Validation Loader - Total Number of Mini-Batches: 10\n",
      "Validation Loader - Total Size of Dataset: 39\n",
      "Test Loader - Total Number of Mini-Batches: 10\n",
      "Test Loader - Total Size of Dataset: 40\n"
     ]
    }
   ],
   "source": [
    "# Check the size and number of batches for each set\n",
    "print (f\"Train Loader - Total Number of Mini-Batches: {len(train_loader)}\")\n",
    "print (f\"Train Loader - Total Size of Dataset: {len(train_loader.sampler)}\")\n",
    "print (f\"Validation Loader - Total Number of Mini-Batches: {len(val_loader)}\")\n",
    "print (f\"Validation Loader - Total Size of Dataset: {len(val_loader.sampler)}\")\n",
    "print (f\"Test Loader - Total Number of Mini-Batches: {len(test_loader)}\")\n",
    "print (f\"Test Loader - Total Size of Dataset: {len(test_loader.sampler)}\")"
   ]
  },
  {
   "cell_type": "markdown",
   "metadata": {},
   "source": [
    "### Create a scoring function for validation and test sets"
   ]
  },
  {
   "cell_type": "code",
   "execution_count": 17,
   "metadata": {},
   "outputs": [],
   "source": [
    "# Purpose:  This function will calculate the average loss\n",
    "#           using the criterion on the loader dataset\n",
    "# Returns:  Average loss\n",
    "@torch.no_grad() \n",
    "def scoreModel(model, loader, criterion):\n",
    "    model.eval()                               # Set the model to inference mode\n",
    "    lossTotal = 0.0                            # Initialize the total loss\n",
    "    \n",
    "    for x,y in loader:\n",
    "        pred = model(x)                        # Single forward pass\n",
    "        loss = criterion(pred, y)              # Calculate the average loss for the batch\n",
    "        lossTotal+=loss.item()*x.size(0)       # Add the average loss adjusting for size of batch\n",
    "        \n",
    "    lossAvg = lossTotal/len(loader.sampler)    # Calculate the average loss for the entire dataset\n",
    "    return lossAvg"
   ]
  },
  {
   "cell_type": "markdown",
   "metadata": {},
   "source": [
    "### Create the training function"
   ]
  },
  {
   "cell_type": "code",
   "execution_count": 18,
   "metadata": {},
   "outputs": [],
   "source": [
    "# Purpose:  This function will train the neural network on the\n",
    "#           given training dataset for epochs number of iterations\n",
    "#           returning the average loss on the test set\n",
    "# Inputs:\n",
    "#    epochs:       The total number of training epochs\n",
    "#    model:        The neural network definition\n",
    "#    train_loader: Vraining set dataloader \n",
    "#    val_loader:   Validation set dataloader \n",
    "#    test_loader:  Testing set dataloader\n",
    "#    criterion:    Loss function used during training\n",
    "#    optimizer:    Algorithm for determining weights\n",
    "#\n",
    "# Returns:\n",
    "#    tLoss:        Average loss on the test_loader\n",
    "def train(epochs, model, train_loader, val_loader, test_loader, criterion, optimizer):\n",
    "\n",
    "    # Set the model to training mode (enable dropout, batch norm stats etc.)\n",
    "    minValLoss = float('inf')\n",
    "    model.train()\n",
    "    \n",
    "    # Train model for epochs number of epochs (full pass of training set)\n",
    "    for epoch in range(epochs):\n",
    "        \n",
    "        # Track loss over the entire epoch\n",
    "        totalLoss = 0\n",
    "        for x, y in train_loader:\n",
    "            \n",
    "            # Perform a single forward pass with a mini-batch and calculate loss\n",
    "            y_pred = model(x)    \n",
    "            loss = criterion(y_pred, y) \n",
    "            totalLoss+=loss.item()*x.size(0)\n",
    "            \n",
    "            # Update the weights\n",
    "            optimizer.zero_grad()\n",
    "            loss.backward()\n",
    "            optimizer.step()\n",
    "\n",
    "        # Calculate the Average Training Loss\n",
    "        avgTLoss = totalLoss/len(train_loader.sampler)\n",
    "\n",
    "        # Calculate validation loss and checkpoint model if lower\n",
    "        vLoss = scoreModel(model, val_loader, criterion)\n",
    "        if (minValLoss > vLoss):\n",
    "            # Save the model if the validation loss improved\n",
    "            # print (\"Model validation score improved, saving model...\")\n",
    "            torch.save(model.state_dict(), \"trainingModelCheckpoint.pt\")\n",
    "            minValLoss = vLoss\n",
    "                \n",
    "        # Display average loss every 50 epochs\n",
    "        if ((epoch+1) % 50 == 0):\n",
    "            print (f\"Epoch {epoch+1}  Training Loss: {totalLoss/len(train_loader.sampler):.4f} Validation Loss: {vLoss:.4f}\")\n",
    "     \n",
    "    # Finally, score the best model on the test dataset\n",
    "    model.load_state_dict(torch.load(\"trainingModelCheckpoint.pt\"))\n",
    "    tLoss = scoreModel(model, test_loader, criterion)\n",
    "    print (f\"Final Average Test Dataset Loss:  {tLoss:.4f}\")  \n",
    "    \n",
    "    # Return the average loss on the test set\n",
    "    return tLoss"
   ]
  },
  {
   "cell_type": "markdown",
   "metadata": {},
   "source": [
    "### Create a graphing function to visualize your final results on the test set\n",
    "Since your model is a regression, one way to visualize it's performance is to plot it's predictions vs. the actual predictions on the test set using a scatter plot.  That way you can easily see how close the model's predicted values were compared with the actual values."
   ]
  },
  {
   "cell_type": "code",
   "execution_count": 19,
   "metadata": {},
   "outputs": [],
   "source": [
    "# Plot predictions vs. true values\n",
    "@torch.no_grad() \n",
    "def graphPredictions(model, loader, minValue, maxValue):\n",
    "    \n",
    "    model.eval()                               # Set the model to inference mode\n",
    "    \n",
    "    predictions=[]                             # Track predictions\n",
    "    actual=[]                                  # Track the actual labels\n",
    "    \n",
    "    for x,y in loader:\n",
    "        \n",
    "        # Single forward pass\n",
    "        pred = model(x)                               \n",
    "\n",
    "        # Un-normalize our prediction and label\n",
    "        pred = pred*yStd+yMean                 \n",
    "        y= y*yStd+yMean\n",
    "\n",
    "        # Save prediction and actual label\n",
    "        predictions.append(pred.tolist())\n",
    "        actual.append(y.tolist())\n",
    "    \n",
    "    # Plot actuals vs predictions\n",
    "    plt.scatter(actual, predictions)\n",
    "    plt.xlabel('Actual MPGs')\n",
    "    plt.ylabel('Predicted MPGs')\n",
    "    plt.plot([minValue,maxValue], [minValue,maxValue]) \n",
    "    plt.xlim(minValue, maxValue)\n",
    "    plt.ylim(minValue, maxValue)\n",
    " \n",
    "    # Make the display equal in both dimensions\n",
    "    plt.gca().set_aspect('equal', adjustable='box')\n",
    "    plt.show()"
   ]
  },
  {
   "cell_type": "markdown",
   "metadata": {},
   "source": [
    "### Build and Train your Model - Target an Average Test Loss < 0.2\n",
    "Build your model and train it to achieve an average test loss of less than 0.2 by:\n",
    "\n",
    "- Iterating on the model size and shape\n",
    "- Experiementing with different optimziers and learning rates\n",
    "- Adding regularization techniques like dropout"
   ]
  },
  {
   "cell_type": "code",
   "execution_count": 20,
   "metadata": {
    "scrolled": true
   },
   "outputs": [],
   "source": [
    "# Step 1 - Create a model and save the initialized weights\n",
    "# Use a variable to define the number of hidden units in the hidden layer\n",
    "numHiddenUnits = 32\n",
    "\n",
    "# Build the simple Neural Network by extending the nn.Module class\n",
    "class MyModel(nn.Module):\n",
    "    \n",
    "        def __init__(self):\n",
    "            super().__init__()\n",
    "            self.fc1 = nn.Linear(8,numHiddenUnits)\n",
    "            self.fc2 = nn.Linear(numHiddenUnits,numHiddenUnits)\n",
    "            self.fc3 = nn.Linear(numHiddenUnits,1)\n",
    "            self.dropout = nn.Dropout(0.10)\n",
    "            \n",
    "        def forward(self, x):\n",
    "            x = F.relu(self.fc1(x))\n",
    "            x = F.relu(self.fc2(x))\n",
    "            x = self.dropout(x)\n",
    "            x = self.fc3(x)\n",
    "            return x\n",
    "\n",
    "# Create an instance of the model, save it and print out the model summary\n",
    "net = MyModel()\n",
    "torch.save(net.state_dict(), 'modelcheckpoint.pth')"
   ]
  },
  {
   "cell_type": "code",
   "execution_count": 21,
   "metadata": {},
   "outputs": [
    {
     "name": "stdout",
     "output_type": "stream",
     "text": [
      "Epoch 50  Training Loss: 0.1307 Validation Loss: 0.2991\n",
      "Epoch 100  Training Loss: 0.1059 Validation Loss: 0.2457\n",
      "Epoch 150  Training Loss: 0.0984 Validation Loss: 0.2276\n",
      "Epoch 200  Training Loss: 0.0941 Validation Loss: 0.2195\n",
      "Epoch 250  Training Loss: 0.0907 Validation Loss: 0.2113\n",
      "Epoch 300  Training Loss: 0.0878 Validation Loss: 0.2071\n",
      "Epoch 350  Training Loss: 0.0859 Validation Loss: 0.2035\n",
      "Epoch 400  Training Loss: 0.0831 Validation Loss: 0.2016\n",
      "Epoch 450  Training Loss: 0.0809 Validation Loss: 0.1992\n",
      "Epoch 500  Training Loss: 0.0790 Validation Loss: 0.1980\n",
      "Epoch 550  Training Loss: 0.0773 Validation Loss: 0.1942\n",
      "Epoch 600  Training Loss: 0.0758 Validation Loss: 0.1938\n",
      "Epoch 650  Training Loss: 0.0743 Validation Loss: 0.1903\n",
      "Epoch 700  Training Loss: 0.0728 Validation Loss: 0.1894\n",
      "Epoch 750  Training Loss: 0.0716 Validation Loss: 0.1879\n",
      "Epoch 800  Training Loss: 0.0704 Validation Loss: 0.1848\n",
      "Epoch 850  Training Loss: 0.0694 Validation Loss: 0.1847\n",
      "Epoch 900  Training Loss: 0.0681 Validation Loss: 0.1825\n",
      "Epoch 950  Training Loss: 0.0670 Validation Loss: 0.1828\n",
      "Epoch 1000  Training Loss: 0.0659 Validation Loss: 0.1821\n",
      "Final Average Test Dataset Loss:  0.1768\n"
     ]
    },
    {
     "data": {
      "image/png": "[encoded data removed]",
      "text/plain": [
       "<Figure size 432x288 with 1 Axes>"
      ]
     },
     "metadata": {
      "needs_background": "light"
     },
     "output_type": "display_data"
    }
   ],
   "source": [
    "# Step2 - Reset the model and train using different learning rates and optimziers\n",
    "# in order to acheive a test loss < 0.01\n",
    "\n",
    "# Load the model weights to the same as initialized\n",
    "net.load_state_dict(torch.load('modelcheckpoint.pth'))\n",
    "\n",
    "# Select our criterion (MSE Loss) and optimzer (SGD or Adam or experiment with others...)\n",
    "criterion = torch.nn.MSELoss()\n",
    "optimizer = optim.SGD(net.parameters(), lr=0.0001, momentum=0.9, nesterov=True)\n",
    "\n",
    "# Train network for 1000 epochs (experiment with more or less as well)\n",
    "train(1000, net, train_loader, val_loader, test_loader, criterion, optimizer)\n",
    "\n",
    "# Display the final results on the test set\n",
    "graphPredictions(net, test_loader, 0, 45)"
   ]
  },
  {
   "cell_type": "markdown",
   "metadata": {},
   "source": [
    "### Make your own predictions\n",
    "After you achieve an average test loss of less than 0.1, you can use the model to make your own predictions. "
   ]
  },
  {
   "cell_type": "code",
   "execution_count": 22,
   "metadata": {},
   "outputs": [
    {
     "data": {
      "text/html": [
       "<div>\n",
       "<style scoped>\n",
       "    .dataframe tbody tr th:only-of-type {\n",
       "        vertical-align: middle;\n",
       "    }\n",
       "\n",
       "    .dataframe tbody tr th {\n",
       "        vertical-align: top;\n",
       "    }\n",
       "\n",
       "    .dataframe thead th {\n",
       "        text-align: right;\n",
       "    }\n",
       "</style>\n",
       "<table border=\"1\" class=\"dataframe\">\n",
       "  <thead>\n",
       "    <tr style=\"text-align: right;\">\n",
       "      <th></th>\n",
       "      <th>Cylinders</th>\n",
       "      <th>Displacement</th>\n",
       "      <th>Horsepower</th>\n",
       "      <th>Weight</th>\n",
       "      <th>Acceleration</th>\n",
       "      <th>Model Year</th>\n",
       "      <th>Origin_Japan</th>\n",
       "      <th>Origin_USA</th>\n",
       "    </tr>\n",
       "  </thead>\n",
       "  <tbody>\n",
       "    <tr>\n",
       "      <th>0</th>\n",
       "      <td>8.00</td>\n",
       "      <td>200.00</td>\n",
       "      <td>200.00</td>\n",
       "      <td>2,800.00</td>\n",
       "      <td>15.00</td>\n",
       "      <td>80.00</td>\n",
       "      <td>0.00</td>\n",
       "      <td>1.00</td>\n",
       "    </tr>\n",
       "  </tbody>\n",
       "</table>\n",
       "</div>"
      ],
      "text/plain": [
       "   Cylinders  Displacement  Horsepower   Weight  Acceleration  Model Year  \\\n",
       "0       8.00        200.00      200.00 2,800.00         15.00       80.00   \n",
       "\n",
       "   Origin_Japan  Origin_USA  \n",
       "0          0.00        1.00  "
      ]
     },
     "execution_count": 22,
     "metadata": {},
     "output_type": "execute_result"
    }
   ],
   "source": [
    "# Specify your inputs to your model\n",
    "df = pd.DataFrame()\n",
    "df.loc[0,'Cylinders']=8\n",
    "df.loc[0,'Displacement']=200\n",
    "df.loc[0,'Horsepower']=200\n",
    "df.loc[0,'Weight']=2800\n",
    "df.loc[0,'Acceleration']=15\n",
    "df.loc[0,'Model Year']=80\n",
    "df.loc[0,'Origin_Japan']=0\n",
    "df.loc[0,'Origin_USA']=1\n",
    "\n",
    "df.head()"
   ]
  },
  {
   "cell_type": "code",
   "execution_count": 23,
   "metadata": {},
   "outputs": [
    {
     "data": {
      "text/html": [
       "<div>\n",
       "<style scoped>\n",
       "    .dataframe tbody tr th:only-of-type {\n",
       "        vertical-align: middle;\n",
       "    }\n",
       "\n",
       "    .dataframe tbody tr th {\n",
       "        vertical-align: top;\n",
       "    }\n",
       "\n",
       "    .dataframe thead th {\n",
       "        text-align: right;\n",
       "    }\n",
       "</style>\n",
       "<table border=\"1\" class=\"dataframe\">\n",
       "  <thead>\n",
       "    <tr style=\"text-align: right;\">\n",
       "      <th></th>\n",
       "      <th>Cylinders</th>\n",
       "      <th>Displacement</th>\n",
       "      <th>Horsepower</th>\n",
       "      <th>Weight</th>\n",
       "      <th>Acceleration</th>\n",
       "      <th>Model Year</th>\n",
       "      <th>Origin_Japan</th>\n",
       "      <th>Origin_USA</th>\n",
       "    </tr>\n",
       "  </thead>\n",
       "  <tbody>\n",
       "    <tr>\n",
       "      <th>0</th>\n",
       "      <td>1.48</td>\n",
       "      <td>0.05</td>\n",
       "      <td>2.48</td>\n",
       "      <td>-0.21</td>\n",
       "      <td>-0.20</td>\n",
       "      <td>1.09</td>\n",
       "      <td>-0.50</td>\n",
       "      <td>0.77</td>\n",
       "    </tr>\n",
       "  </tbody>\n",
       "</table>\n",
       "</div>"
      ],
      "text/plain": [
       "   Cylinders  Displacement  Horsepower  Weight  Acceleration  Model Year  \\\n",
       "0       1.48          0.05        2.48   -0.21         -0.20        1.09   \n",
       "\n",
       "   Origin_Japan  Origin_USA  \n",
       "0         -0.50        0.77  "
      ]
     },
     "execution_count": 23,
     "metadata": {},
     "output_type": "execute_result"
    }
   ],
   "source": [
    "# Normalize the input values using the previously calculate xMean and sStd\n",
    "xdf = (df-xMean)/xStd\n",
    "xdf.head()"
   ]
  },
  {
   "cell_type": "code",
   "execution_count": 24,
   "metadata": {},
   "outputs": [
    {
     "name": "stdout",
     "output_type": "stream",
     "text": [
      "Predicted MPG: 20.69\n"
     ]
    }
   ],
   "source": [
    "# Create a torch tensor for the input\n",
    "x = torch.tensor(xdf.to_numpy(), dtype=torch.float)\n",
    "\n",
    "# Set the model to evaluation mode\n",
    "net = net.eval()\n",
    "\n",
    "# Perform a single forward pass\n",
    "pred = net(x)\n",
    "\n",
    "# Unnormalize the output using yMean and yStd\n",
    "pred = pred*yStd+yMean\n",
    "\n",
    "print (f\"Predicted MPG: {pred.item():0.4}\")"
   ]
  },
  {
   "cell_type": "markdown",
   "metadata": {},
   "source": [
    "### Congratulations! \n",
    "You have made it to the end of the project!  Once you have achieved a training set loss of less than 0.2, you may submit your project by downloading it and emailing it to us for review.  "
   ]
  }
 ],
 "metadata": {
  "colab": {
   "name": "project 1.ipynb",
   "provenance": []
  },
  "kernelspec": {
   "display_name": "Python 3 (ipykernel)",
   "language": "python",
   "name": "python3"
  },
  "language_info": {
   "codemirror_mode": {
    "name": "ipython",
    "version": 3
   },
   "file_extension": ".py",
   "mimetype": "text/x-python",
   "name": "python",
   "nbconvert_exporter": "python",
   "pygments_lexer": "ipython3",
   "version": "3.8.2"
  }
 },
 "nbformat": 4,
 "nbformat_minor": 1
}
