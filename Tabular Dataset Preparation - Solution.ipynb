{
 "cells": [
  {
   "cell_type": "markdown",
   "id": "1dabc5fd",
   "metadata": {},
   "source": [
    "# Assignment 3 – Tabular Dataset Preparation\n",
    "\n",
    "This is Assignment 3 for the Introduction to Deep Learning with PyTorch course (www.leaky.ai).  In this assignment you will practice preparing tabular datasets for training a neural network.  You will practice applying normalization and standardization techniques.  You will also use pandas to convert categorical inputs into numerical values.\n",
    "To Get Started\n",
    "\n",
    "1.\tOpen up a web browser (preferable Chrome)\n",
    "2.\tCopy the Project GitHub Link: https://github.com/LeakyAI/PyTorch-Overview\n",
    "3.\tHead over to Google Colab (https://colab.research.google.com)\n",
    "4.\tLoad the notebook: Tabular Dataset Preparation - Start Here.ipynb\n",
    "5.\tReplace the [TBD]'s with your own code\n",
    "6.\tExecute the notebook after completing each cell and check your answers using the solution notebook\n",
    "\n",
    "Good Luck!\n",
    "\n",
    "Key Takeaways:\n",
    "•\tYou calculated the minimum and maximum values for each input and applied normalization\n",
    "•\tYou then applied standardization and compared the results\n",
    "•\tYou replaced categorical inputs with numerical values using one-hot encoding"
   ]
  },
  {
   "cell_type": "markdown",
   "id": "51367336",
   "metadata": {},
   "source": [
    "## Part 1 - Standardization and Min Max Normalization"
   ]
  },
  {
   "cell_type": "code",
   "execution_count": 1,
   "id": "6d624e36",
   "metadata": {},
   "outputs": [],
   "source": [
    "# Import PyTorch and set the seed for reproducible results\n",
    "import torch\n",
    "torch.set_printoptions(precision=3,sci_mode=False)  # Tensor easier to read"
   ]
  },
  {
   "cell_type": "code",
   "execution_count": 2,
   "id": "1f8334e8",
   "metadata": {},
   "outputs": [
    {
     "name": "stdout",
     "output_type": "stream",
     "text": [
      "tensor([[     1.000,    100.000,      3.000,      0.010,   5000.000],\n",
      "        [     0.000,     10.000,      8.000,     -0.002,      0.010],\n",
      "        [     1.000,     25.000,     13.000,      0.040,      0.200],\n",
      "        [     1.000,     45.000,     18.000,     -0.050,      0.500]])\n"
     ]
    }
   ],
   "source": [
    "# Create a PyTorch tensor with the following content:\n",
    "#    [[1,100,3,0.01,5000],[0,10,8,-0.002,0.01],[1,25,13,0.04,0.2],[1,45,18,-0.05,0.5]]\n",
    "data = torch.tensor([[1,100,3,0.01,5000],[0,10,8,-0.002,0.01],[1,25,13,0.04,0.2],[1,45,18,-0.05,0.5]], dtype=torch.float)\n",
    "print (data)"
   ]
  },
  {
   "cell_type": "markdown",
   "id": "a9fb7410",
   "metadata": {},
   "source": [
    "#### Answer\n",
    "<pre>\n",
    "tensor([[     1.000,    100.000,      3.000,      0.010,   5000.000],\n",
    "        [     0.000,     10.000,      8.000,     -0.002,      0.010],\n",
    "        [     1.000,     25.000,     13.000,      0.040,      0.200],\n",
    "        [     1.000,     45.000,     18.000,     -0.050,      0.500]])\n",
    "</pre>"
   ]
  },
  {
   "cell_type": "markdown",
   "id": "800c3d40",
   "metadata": {},
   "source": [
    "# Normalize the Values\n",
    "Here you will apply normalization to the column values."
   ]
  },
  {
   "cell_type": "code",
   "execution_count": 3,
   "id": "c6da434b",
   "metadata": {},
   "outputs": [
    {
     "name": "stdout",
     "output_type": "stream",
     "text": [
      "Max Values: tensor([    1.000,   100.000,    18.000,     0.040,  5000.000])\n",
      "Min Values: tensor([     0.000,     10.000,      3.000,     -0.050,      0.010])\n"
     ]
    }
   ],
   "source": [
    "# Find the minimum and maximum value for each column\n",
    "# Hint:  Make sure you use axis = 0 when calling min and max as we\n",
    "#        want to apply the function calls to the columns (not entire tensor)\n",
    "maximums = data.max(axis=0)\n",
    "minimums = data.min(axis=0)\n",
    "print (f\"Max Values: {maximums.values}\")\n",
    "print (f\"Min Values: {minimums.values}\")"
   ]
  },
  {
   "cell_type": "markdown",
   "id": "7ede5571",
   "metadata": {},
   "source": [
    "#### Answer\n",
    "<pre>\n",
    "Max Values: tensor([    1.000,   100.000,    18.000,     0.040,  5000.000])\n",
    "Min Values: tensor([     0.000,     10.000,      3.000,     -0.050,      0.010])\n",
    "</pre>"
   ]
  },
  {
   "cell_type": "code",
   "execution_count": 4,
   "id": "27c2ce88",
   "metadata": {},
   "outputs": [
    {
     "name": "stdout",
     "output_type": "stream",
     "text": [
      "tensor([[    1.000,     1.000,     0.000,     0.667,     1.000],\n",
      "        [    0.000,     0.000,     0.333,     0.533,     0.000],\n",
      "        [    1.000,     0.167,     0.667,     1.000,     0.000],\n",
      "        [    1.000,     0.389,     1.000,     0.000,     0.000]])\n"
     ]
    }
   ],
   "source": [
    "# Applying normalization to each input\n",
    "# Use the formula x = (x-min)/(max-min)\n",
    "dataNormalized = (data - minimums.values) / (maximums.values - minimums.values)\n",
    "print (dataNormalized)"
   ]
  },
  {
   "cell_type": "markdown",
   "id": "5497922f",
   "metadata": {},
   "source": [
    "#### Answer\n",
    "<pre>\n",
    "tensor([[    1.000,     1.000,     0.000,     0.667,     1.000],\n",
    "        [    0.000,     0.000,     0.333,     0.533,     0.000],\n",
    "        [    1.000,     0.167,     0.667,     1.000,     0.000],\n",
    "        [    1.000,     0.389,     1.000,     0.000,     0.000]])\n",
    "</pre>"
   ]
  },
  {
   "cell_type": "markdown",
   "id": "5e5e23a0",
   "metadata": {},
   "source": [
    "### Question\n",
    "What obervations can be made about using normalization?  Does normalization work well in all cases?  How about the last column?"
   ]
  },
  {
   "cell_type": "markdown",
   "id": "51625f01",
   "metadata": {},
   "source": [
    "### Your Answer\n",
    "Normalization ensures all our intputs are in the range of 0..1.  However, when the data contains outliers, as with the last column, normalization is not ideal as the smaller values will all be close to 0."
   ]
  },
  {
   "cell_type": "markdown",
   "id": "4ad77851",
   "metadata": {},
   "source": [
    "## Standardize the Values\n",
    "Use the following formula:\n",
    "xStandardized = (x - xMean) / xStdDeviation"
   ]
  },
  {
   "cell_type": "code",
   "execution_count": 5,
   "id": "860910e4",
   "metadata": {},
   "outputs": [
    {
     "name": "stdout",
     "output_type": "stream",
     "text": [
      "Mean  : tensor([     0.750,     45.000,     10.500,     -0.001,   1250.177])\n",
      "St Dev: tensor([    0.500,    39.370,     6.455,     0.037,  2499.882])\n"
     ]
    }
   ],
   "source": [
    "# Calculate the mean and standard deviation of each column\n",
    "dataMean = data.mean(axis = 0)\n",
    "dataStDev = data.std(axis = 0)\n",
    "\n",
    "print (f\"Mean  : {dataMean}\")\n",
    "print (f\"St Dev: {dataStDev}\")"
   ]
  },
  {
   "cell_type": "markdown",
   "id": "89bae766",
   "metadata": {},
   "source": [
    "#### Answer\n",
    "<pre>\n",
    "Mean  : tensor([     0.750,     45.000,     10.500,     -0.001,   1250.177])\n",
    "St Dev: tensor([    0.500,    39.370,     6.455,     0.037,  2499.882])\n",
    "</pre>"
   ]
  },
  {
   "cell_type": "code",
   "execution_count": 6,
   "id": "3acfdf6d",
   "metadata": {},
   "outputs": [
    {
     "name": "stdout",
     "output_type": "stream",
     "text": [
      "tensor([[ 0.500,  1.397, -1.162,  0.281,  1.500],\n",
      "        [-1.500, -0.889, -0.387, -0.040, -0.500],\n",
      "        [ 0.500, -0.508,  0.387,  1.082, -0.500],\n",
      "        [ 0.500,  0.000,  1.162, -1.322, -0.500]])\n"
     ]
    }
   ],
   "source": [
    "# Standadize the columns using the following formula:\n",
    "# dataStandardized = (data - mean) / (standardDeviation)\n",
    "# hint - make sure you use axis=0 as we want these operations\n",
    "#        conducted on the columns (not rows, not entire tensor)\n",
    "dataStandardized = (data - dataMean) / (dataStDev)\n",
    "print (dataStandardized)"
   ]
  },
  {
   "cell_type": "markdown",
   "id": "04e2e7a6",
   "metadata": {},
   "source": [
    "#### Answer\n",
    "<pre>\n",
    "tensor([[ 0.500,  1.397, -1.162,  0.281,  1.500],\n",
    "        [-1.500, -0.889, -0.387, -0.040, -0.500],\n",
    "        [ 0.500, -0.508,  0.387,  1.082, -0.500],\n",
    "        [ 0.500,  0.000,  1.162, -1.322, -0.500]])\n",
    "</pre>"
   ]
  },
  {
   "cell_type": "markdown",
   "id": "e3efe3cb",
   "metadata": {},
   "source": [
    "### Question\n",
    "What obervations can be made about using normalization?  Does normalization work well in all cases?  How about the last column?"
   ]
  },
  {
   "cell_type": "markdown",
   "id": "f92c67c3",
   "metadata": {},
   "source": [
    "### Your Answer\n",
    "Standardization resulted in a larger range (outside of 0..1) but also ensured that the outlier in the last column did not overly affect the other input values in the column.  For columns with outliers, it is usually better to apply standardization as opposed to normalization.\n"
   ]
  },
  {
   "cell_type": "markdown",
   "id": "887a2e3c",
   "metadata": {},
   "source": [
    "## One-Hot Encoding\n",
    "Most tabular datasets contain categorical data.  You will need to convert this type of data into numerical data before training.  We will be using the panda library to automatically convert our the categorical data into numeric using the get_dummies function."
   ]
  },
  {
   "cell_type": "code",
   "execution_count": 7,
   "id": "3ad360e8",
   "metadata": {},
   "outputs": [],
   "source": [
    "# Load a categorical dataset using Pandas\n",
    "import pandas as pd\n",
    "df = pd.read_csv('cat_data_v1.csv')"
   ]
  },
  {
   "cell_type": "code",
   "execution_count": 8,
   "id": "b822762e",
   "metadata": {},
   "outputs": [
    {
     "data": {
      "text/plain": [
       "(1000, 3)"
      ]
     },
     "execution_count": 8,
     "metadata": {},
     "output_type": "execute_result"
    }
   ],
   "source": [
    "# Understand the shape of the data by displaying the value of shape\n",
    "df.shape"
   ]
  },
  {
   "cell_type": "code",
   "execution_count": 9,
   "id": "2f924165",
   "metadata": {},
   "outputs": [
    {
     "data": {
      "text/html": [
       "<div>\n",
       "<style scoped>\n",
       "    .dataframe tbody tr th:only-of-type {\n",
       "        vertical-align: middle;\n",
       "    }\n",
       "\n",
       "    .dataframe tbody tr th {\n",
       "        vertical-align: top;\n",
       "    }\n",
       "\n",
       "    .dataframe thead th {\n",
       "        text-align: right;\n",
       "    }\n",
       "</style>\n",
       "<table border=\"1\" class=\"dataframe\">\n",
       "  <thead>\n",
       "    <tr style=\"text-align: right;\">\n",
       "      <th></th>\n",
       "      <th>Day of the Week</th>\n",
       "      <th>Raining</th>\n",
       "      <th>Age Group</th>\n",
       "    </tr>\n",
       "  </thead>\n",
       "  <tbody>\n",
       "    <tr>\n",
       "      <th>0</th>\n",
       "      <td>Wednesday</td>\n",
       "      <td>No</td>\n",
       "      <td>10..65 years</td>\n",
       "    </tr>\n",
       "    <tr>\n",
       "      <th>1</th>\n",
       "      <td>Monday</td>\n",
       "      <td>Yes</td>\n",
       "      <td>More than 65 years</td>\n",
       "    </tr>\n",
       "    <tr>\n",
       "      <th>2</th>\n",
       "      <td>Monday</td>\n",
       "      <td>Yes</td>\n",
       "      <td>More than 65 years</td>\n",
       "    </tr>\n",
       "    <tr>\n",
       "      <th>3</th>\n",
       "      <td>Friday</td>\n",
       "      <td>Yes</td>\n",
       "      <td>Less than 10 years</td>\n",
       "    </tr>\n",
       "    <tr>\n",
       "      <th>4</th>\n",
       "      <td>Wednesday</td>\n",
       "      <td>No</td>\n",
       "      <td>10..65 years</td>\n",
       "    </tr>\n",
       "  </tbody>\n",
       "</table>\n",
       "</div>"
      ],
      "text/plain": [
       "  Day of the Week Raining           Age Group\n",
       "0       Wednesday      No        10..65 years\n",
       "1          Monday     Yes  More than 65 years\n",
       "2          Monday     Yes  More than 65 years\n",
       "3          Friday     Yes  Less than 10 years\n",
       "4       Wednesday      No        10..65 years"
      ]
     },
     "execution_count": 9,
     "metadata": {},
     "output_type": "execute_result"
    }
   ],
   "source": [
    "# Show the first portion of the data using head()\n",
    "df.head()"
   ]
  },
  {
   "cell_type": "code",
   "execution_count": 10,
   "id": "43641db3",
   "metadata": {},
   "outputs": [
    {
     "data": {
      "text/html": [
       "<div>\n",
       "<style scoped>\n",
       "    .dataframe tbody tr th:only-of-type {\n",
       "        vertical-align: middle;\n",
       "    }\n",
       "\n",
       "    .dataframe tbody tr th {\n",
       "        vertical-align: top;\n",
       "    }\n",
       "\n",
       "    .dataframe thead th {\n",
       "        text-align: right;\n",
       "    }\n",
       "</style>\n",
       "<table border=\"1\" class=\"dataframe\">\n",
       "  <thead>\n",
       "    <tr style=\"text-align: right;\">\n",
       "      <th></th>\n",
       "      <th>Day of the Week</th>\n",
       "      <th>Raining</th>\n",
       "      <th>Age Group</th>\n",
       "    </tr>\n",
       "  </thead>\n",
       "  <tbody>\n",
       "    <tr>\n",
       "      <th>count</th>\n",
       "      <td>1000</td>\n",
       "      <td>945</td>\n",
       "      <td>1000</td>\n",
       "    </tr>\n",
       "    <tr>\n",
       "      <th>unique</th>\n",
       "      <td>7</td>\n",
       "      <td>2</td>\n",
       "      <td>3</td>\n",
       "    </tr>\n",
       "    <tr>\n",
       "      <th>top</th>\n",
       "      <td>Thursday</td>\n",
       "      <td>No</td>\n",
       "      <td>Less than 10 years</td>\n",
       "    </tr>\n",
       "    <tr>\n",
       "      <th>freq</th>\n",
       "      <td>155</td>\n",
       "      <td>496</td>\n",
       "      <td>347</td>\n",
       "    </tr>\n",
       "  </tbody>\n",
       "</table>\n",
       "</div>"
      ],
      "text/plain": [
       "       Day of the Week Raining           Age Group\n",
       "count             1000     945                1000\n",
       "unique               7       2                   3\n",
       "top           Thursday      No  Less than 10 years\n",
       "freq               155     496                 347"
      ]
     },
     "execution_count": 10,
     "metadata": {},
     "output_type": "execute_result"
    }
   ],
   "source": [
    "# Use the describe() function to better understand the data\n",
    "# and look for missing values\n",
    "df.describe()"
   ]
  },
  {
   "cell_type": "code",
   "execution_count": 11,
   "id": "df25d433",
   "metadata": {},
   "outputs": [
    {
     "data": {
      "text/html": [
       "<div>\n",
       "<style scoped>\n",
       "    .dataframe tbody tr th:only-of-type {\n",
       "        vertical-align: middle;\n",
       "    }\n",
       "\n",
       "    .dataframe tbody tr th {\n",
       "        vertical-align: top;\n",
       "    }\n",
       "\n",
       "    .dataframe thead th {\n",
       "        text-align: right;\n",
       "    }\n",
       "</style>\n",
       "<table border=\"1\" class=\"dataframe\">\n",
       "  <thead>\n",
       "    <tr style=\"text-align: right;\">\n",
       "      <th></th>\n",
       "      <th>Day of the Week</th>\n",
       "      <th>Raining</th>\n",
       "      <th>Age Group</th>\n",
       "    </tr>\n",
       "  </thead>\n",
       "  <tbody>\n",
       "    <tr>\n",
       "      <th>count</th>\n",
       "      <td>945</td>\n",
       "      <td>945</td>\n",
       "      <td>945</td>\n",
       "    </tr>\n",
       "    <tr>\n",
       "      <th>unique</th>\n",
       "      <td>7</td>\n",
       "      <td>2</td>\n",
       "      <td>3</td>\n",
       "    </tr>\n",
       "    <tr>\n",
       "      <th>top</th>\n",
       "      <td>Thursday</td>\n",
       "      <td>No</td>\n",
       "      <td>Less than 10 years</td>\n",
       "    </tr>\n",
       "    <tr>\n",
       "      <th>freq</th>\n",
       "      <td>149</td>\n",
       "      <td>496</td>\n",
       "      <td>327</td>\n",
       "    </tr>\n",
       "  </tbody>\n",
       "</table>\n",
       "</div>"
      ],
      "text/plain": [
       "       Day of the Week Raining           Age Group\n",
       "count              945     945                 945\n",
       "unique               7       2                   3\n",
       "top           Thursday      No  Less than 10 years\n",
       "freq               149     496                 327"
      ]
     },
     "execution_count": 11,
     "metadata": {},
     "output_type": "execute_result"
    }
   ],
   "source": [
    "# Drop rows that contain missing values using dropna()\n",
    "df = df.dropna()\n",
    "df.describe()"
   ]
  },
  {
   "cell_type": "code",
   "execution_count": 12,
   "id": "211225af",
   "metadata": {},
   "outputs": [
    {
     "data": {
      "text/html": [
       "<div>\n",
       "<style scoped>\n",
       "    .dataframe tbody tr th:only-of-type {\n",
       "        vertical-align: middle;\n",
       "    }\n",
       "\n",
       "    .dataframe tbody tr th {\n",
       "        vertical-align: top;\n",
       "    }\n",
       "\n",
       "    .dataframe thead th {\n",
       "        text-align: right;\n",
       "    }\n",
       "</style>\n",
       "<table border=\"1\" class=\"dataframe\">\n",
       "  <thead>\n",
       "    <tr style=\"text-align: right;\">\n",
       "      <th></th>\n",
       "      <th>Day of the Week_Monday</th>\n",
       "      <th>Day of the Week_Saturday</th>\n",
       "      <th>Day of the Week_Sunday</th>\n",
       "      <th>Day of the Week_Thursday</th>\n",
       "      <th>Day of the Week_Tuesday</th>\n",
       "      <th>Day of the Week_Wednesday</th>\n",
       "      <th>Raining_Yes</th>\n",
       "      <th>Age Group_Less than 10 years</th>\n",
       "      <th>Age Group_More than 65 years</th>\n",
       "    </tr>\n",
       "  </thead>\n",
       "  <tbody>\n",
       "    <tr>\n",
       "      <th>0</th>\n",
       "      <td>0</td>\n",
       "      <td>0</td>\n",
       "      <td>0</td>\n",
       "      <td>0</td>\n",
       "      <td>0</td>\n",
       "      <td>1</td>\n",
       "      <td>0</td>\n",
       "      <td>0</td>\n",
       "      <td>0</td>\n",
       "    </tr>\n",
       "    <tr>\n",
       "      <th>1</th>\n",
       "      <td>1</td>\n",
       "      <td>0</td>\n",
       "      <td>0</td>\n",
       "      <td>0</td>\n",
       "      <td>0</td>\n",
       "      <td>0</td>\n",
       "      <td>1</td>\n",
       "      <td>0</td>\n",
       "      <td>1</td>\n",
       "    </tr>\n",
       "    <tr>\n",
       "      <th>2</th>\n",
       "      <td>1</td>\n",
       "      <td>0</td>\n",
       "      <td>0</td>\n",
       "      <td>0</td>\n",
       "      <td>0</td>\n",
       "      <td>0</td>\n",
       "      <td>1</td>\n",
       "      <td>0</td>\n",
       "      <td>1</td>\n",
       "    </tr>\n",
       "    <tr>\n",
       "      <th>3</th>\n",
       "      <td>0</td>\n",
       "      <td>0</td>\n",
       "      <td>0</td>\n",
       "      <td>0</td>\n",
       "      <td>0</td>\n",
       "      <td>0</td>\n",
       "      <td>1</td>\n",
       "      <td>1</td>\n",
       "      <td>0</td>\n",
       "    </tr>\n",
       "    <tr>\n",
       "      <th>4</th>\n",
       "      <td>0</td>\n",
       "      <td>0</td>\n",
       "      <td>0</td>\n",
       "      <td>0</td>\n",
       "      <td>0</td>\n",
       "      <td>1</td>\n",
       "      <td>0</td>\n",
       "      <td>0</td>\n",
       "      <td>0</td>\n",
       "    </tr>\n",
       "  </tbody>\n",
       "</table>\n",
       "</div>"
      ],
      "text/plain": [
       "   Day of the Week_Monday  Day of the Week_Saturday  Day of the Week_Sunday  \\\n",
       "0                       0                         0                       0   \n",
       "1                       1                         0                       0   \n",
       "2                       1                         0                       0   \n",
       "3                       0                         0                       0   \n",
       "4                       0                         0                       0   \n",
       "\n",
       "   Day of the Week_Thursday  Day of the Week_Tuesday  \\\n",
       "0                         0                        0   \n",
       "1                         0                        0   \n",
       "2                         0                        0   \n",
       "3                         0                        0   \n",
       "4                         0                        0   \n",
       "\n",
       "   Day of the Week_Wednesday  Raining_Yes  Age Group_Less than 10 years  \\\n",
       "0                          1            0                             0   \n",
       "1                          0            1                             0   \n",
       "2                          0            1                             0   \n",
       "3                          0            1                             1   \n",
       "4                          1            0                             0   \n",
       "\n",
       "   Age Group_More than 65 years  \n",
       "0                             0  \n",
       "1                             1  \n",
       "2                             1  \n",
       "3                             0  \n",
       "4                             0  "
      ]
     },
     "execution_count": 12,
     "metadata": {},
     "output_type": "execute_result"
    }
   ],
   "source": [
    "# Create one-hot encoded values for each column using\n",
    "# the the get_dummies function:\n",
    "OneHot = pd.get_dummies(df, drop_first=True)\n",
    "OneHot.head()"
   ]
  },
  {
   "cell_type": "markdown",
   "id": "2d7f5432",
   "metadata": {},
   "source": [
    "### Key Takeaways:\n",
    "- You calculated the minimum and maximum values for each input and applied normalization\n",
    "- You then applied standardization and compared the results\n",
    "- You replaced categorical inputs with numerical values using one-hot encoding"
   ]
  }
 ],
 "metadata": {
  "kernelspec": {
   "display_name": "Python 3 (ipykernel)",
   "language": "python",
   "name": "python3"
  },
  "language_info": {
   "codemirror_mode": {
    "name": "ipython",
    "version": 3
   },
   "file_extension": ".py",
   "mimetype": "text/x-python",
   "name": "python",
   "nbconvert_exporter": "python",
   "pygments_lexer": "ipython3",
   "version": "3.8.2"
  }
 },
 "nbformat": 4,
 "nbformat_minor": 5
}
